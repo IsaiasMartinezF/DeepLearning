{
  "nbformat": 4,
  "nbformat_minor": 0,
  "metadata": {
    "colab": {
      "provenance": [],
      "authorship_tag": "ABX9TyMWpXAfvlLGKVVMz9XYwclo",
      "include_colab_link": true
    },
    "kernelspec": {
      "name": "python3",
      "display_name": "Python 3"
    },
    "language_info": {
      "name": "python"
    },
    "accelerator": "GPU",
    "gpuClass": "standard"
  },
  "cells": [
    {
      "cell_type": "markdown",
      "metadata": {
        "id": "view-in-github",
        "colab_type": "text"
      },
      "source": [
        "<a href=\"https://colab.research.google.com/github/IsaiasMartinezF/Redes-Neuronales-/blob/main/guardado_de_archivos_redes_visualizacion_de_se%C3%B1as.ipynb\" target=\"_parent\"><img src=\"https://colab.research.google.com/assets/colab-badge.svg\" alt=\"Open In Colab\"/></a>"
      ]
    },
    {
      "cell_type": "code",
      "execution_count": null,
      "metadata": {
        "colab": {
          "base_uri": "https://localhost:8080/"
        },
        "id": "0b4uOSCuuACA",
        "outputId": "85c4138d-57d5-4dd5-925c-804b6e8ad3ee"
      },
      "outputs": [
        {
          "output_type": "stream",
          "name": "stdout",
          "text": [
            "--2023-01-27 14:25:18--  https://storage.googleapis.com/platzi-tf2/sign-language-img.zip\n",
            "Resolving storage.googleapis.com (storage.googleapis.com)... 108.177.127.128, 142.250.145.128, 2a00:1450:4013:c07::80, ...\n",
            "Connecting to storage.googleapis.com (storage.googleapis.com)|108.177.127.128|:443... connected.\n",
            "HTTP request sent, awaiting response... 200 OK\n",
            "Length: 24265584 (23M) [application/zip]\n",
            "Saving to: ‘/tmp/sign-language-img.zip’\n",
            "\n",
            "/tmp/sign-language- 100%[===================>]  23.14M  12.2MB/s    in 1.9s    \n",
            "\n",
            "2023-01-27 14:25:21 (12.2 MB/s) - ‘/tmp/sign-language-img.zip’ saved [24265584/24265584]\n",
            "\n"
          ]
        }
      ],
      "source": [
        "!wget --no-check-certificate https://storage.googleapis.com/platzi-tf2/sign-language-img.zip \\\n",
        "    -O /tmp/sign-language-img.zip"
      ]
    },
    {
      "cell_type": "code",
      "source": [
        "import os\n",
        "import zipfile\n",
        "\n",
        "local_zip = \"/tmp/sign-language-img.zip\"\n",
        "zip_ref = zipfile.ZipFile(local_zip, 'r')\n",
        "zip_ref.extractall('/tmp/sign-language-img')\n",
        "zip_ref.close()"
      ],
      "metadata": {
        "id": "h6G2pSz4vz8m"
      },
      "execution_count": null,
      "outputs": []
    },
    {
      "cell_type": "code",
      "source": [
        "import numpy as np\n",
        "%matplotlib inline\n",
        "import matplotlib.pyplot as plt\n",
        "import matplotlib.image as mping\n",
        "import string\n",
        "import tensorflow as tf\n",
        "from tensorflow.keras.preprocessing.image import ImageDataGenerator"
      ],
      "metadata": {
        "id": "7nfJ10E8xSSZ"
      },
      "execution_count": null,
      "outputs": []
    },
    {
      "cell_type": "code",
      "source": [
        "train_dir ='/tmp/sign-language-img/Train'\n",
        "test_dir = '/tmp/sign-language-img/Test'"
      ],
      "metadata": {
        "id": "qIZD9QqLvhdK"
      },
      "execution_count": null,
      "outputs": []
    },
    {
      "cell_type": "code",
      "source": [
        "#vamos a normalizar los datos\n",
        "train_datagen = ImageDataGenerator(rescale =1/255)\n",
        "test_datagen = ImageDataGenerator(rescale=1/255, validation_split=0.2)"
      ],
      "metadata": {
        "id": "w8kV6zxjv4bO"
      },
      "execution_count": null,
      "outputs": []
    },
    {
      "cell_type": "code",
      "source": [
        "train_generator = train_datagen.flow_from_directory(\n",
        "    train_dir,\n",
        "    target_size= (28,28),\n",
        "    batch_size = 128,\n",
        "    class_mode ='categorical',\n",
        "    color_mode ='grayscale',\n",
        "    subset ='training'\n",
        ")\n",
        "\n",
        "validation_generator = test_datagen.flow_from_directory(\n",
        "    test_dir,\n",
        "    target_size= (28,28),\n",
        "    batch_size = 128,\n",
        "    class_mode ='categorical',\n",
        "    color_mode ='grayscale',\n",
        "    subset ='validation'\n",
        ")\n",
        "\n",
        "test_generator = test_datagen.flow_from_directory(\n",
        "    test_dir,\n",
        "    target_size= (28,28),\n",
        "    batch_size = 128,\n",
        "    class_mode ='categorical',\n",
        "    color_mode ='grayscale'\n",
        ")"
      ],
      "metadata": {
        "colab": {
          "base_uri": "https://localhost:8080/"
        },
        "id": "dINlEMsQwgOx",
        "outputId": "00e385e5-329c-44b7-8b8e-36066039e356"
      },
      "execution_count": null,
      "outputs": [
        {
          "output_type": "stream",
          "name": "stdout",
          "text": [
            "Found 27455 images belonging to 24 classes.\n",
            "Found 1425 images belonging to 24 classes.\n",
            "Found 7172 images belonging to 24 classes.\n"
          ]
        }
      ]
    },
    {
      "cell_type": "code",
      "source": [
        "classes = [char for char in string.ascii_uppercase if char != 'J' if char !='Z']"
      ],
      "metadata": {
        "id": "J6tu2BWxyX9-"
      },
      "execution_count": null,
      "outputs": []
    },
    {
      "cell_type": "code",
      "source": [
        "classes"
      ],
      "metadata": {
        "colab": {
          "base_uri": "https://localhost:8080/"
        },
        "id": "riGL-plGzBSw",
        "outputId": "4d02cf45-1ec5-4ee7-deef-18eb882c81c5"
      },
      "execution_count": null,
      "outputs": [
        {
          "output_type": "execute_result",
          "data": {
            "text/plain": [
              "['A',\n",
              " 'B',\n",
              " 'C',\n",
              " 'D',\n",
              " 'E',\n",
              " 'F',\n",
              " 'G',\n",
              " 'H',\n",
              " 'I',\n",
              " 'K',\n",
              " 'L',\n",
              " 'M',\n",
              " 'N',\n",
              " 'O',\n",
              " 'P',\n",
              " 'Q',\n",
              " 'R',\n",
              " 'S',\n",
              " 'T',\n",
              " 'U',\n",
              " 'V',\n",
              " 'W',\n",
              " 'X',\n",
              " 'Y']"
            ]
          },
          "metadata": {},
          "execution_count": 8
        }
      ]
    },
    {
      "cell_type": "code",
      "source": [
        "def plotImages(images_arr):\n",
        "  fig, axes = plt.subplots(1,5, figsize = (10,10))\n",
        "  axes = axes.flatten()\n",
        "  for img, ax in zip(images_arr, axes):\n",
        "    ax.imshow(img[:,:,0])\n",
        "    ax.axis('off')\n",
        "  plt.tight_layout()\n",
        "  plt.show()  "
      ],
      "metadata": {
        "id": "ryY0tRh2zD39"
      },
      "execution_count": null,
      "outputs": []
    },
    {
      "cell_type": "code",
      "source": [
        "sample_trainig_images, _= next(train_generator)\n",
        "plotImages(sample_trainig_images[:5])"
      ],
      "metadata": {
        "colab": {
          "base_uri": "https://localhost:8080/",
          "height": 162
        },
        "id": "pYg1y2Zk0LPR",
        "outputId": "04ee179b-1800-4ecb-8c9c-5dc29b45e934"
      },
      "execution_count": null,
      "outputs": [
        {
          "output_type": "display_data",
          "data": {
            "text/plain": [
              "<Figure size 720x720 with 5 Axes>"
            ],
            "image/png": "[encoded data removed]"
          },
          "metadata": {
            "needs_background": "light"
          }
        }
      ]
    },
    {
      "cell_type": "code",
      "source": [
        "#sequencial nos permite que las capas de la red neuronal se vayan relacionando de mnera secuencial\n",
        "model_base = tf.keras.models.Sequential([\n",
        "    #la primer capa es la entrada de nuestra red n. Flaten hace la imagen en un array\n",
        "    tf.keras.layers.Flatten(input_shape = (28, 28, 1)),\n",
        "    #capa densa de activacion relu con 256 neuronas\n",
        "    tf.keras.layers.Dense(256, activation = 'relu'),\n",
        "    tf.keras.layers.Dense(128, activation = 'relu'),\n",
        "    #capa de salida va a tener la misma cantidad de neuronas que de clases de salida\n",
        "    #con una funcion de activacion 'softmax' va a dividir la probabilidad de 0 a 100 segun las clases\n",
        "    tf.keras.layers.Dense(len(classes), activation = 'softmax')\n",
        "\n",
        "])"
      ],
      "metadata": {
        "id": "jntQ8Tszv2bU"
      },
      "execution_count": null,
      "outputs": []
    },
    {
      "cell_type": "code",
      "source": [
        "#veamos la arquitectura del modelo\n",
        "model_base.summary()"
      ],
      "metadata": {
        "colab": {
          "base_uri": "https://localhost:8080/"
        },
        "id": "kaJvAeRJzSbI",
        "outputId": "74c56f17-dce5-454c-e1e3-eefa9f2e1d01"
      },
      "execution_count": null,
      "outputs": [
        {
          "output_type": "stream",
          "name": "stdout",
          "text": [
            "Model: \"sequential\"\n",
            "_________________________________________________________________\n",
            " Layer (type)                Output Shape              Param #   \n",
            "=================================================================\n",
            " flatten (Flatten)           (None, 784)               0         \n",
            "                                                                 \n",
            " dense (Dense)               (None, 256)               200960    \n",
            "                                                                 \n",
            " dense_1 (Dense)             (None, 128)               32896     \n",
            "                                                                 \n",
            " dense_2 (Dense)             (None, 24)                3096      \n",
            "                                                                 \n",
            "=================================================================\n",
            "Total params: 236,952\n",
            "Trainable params: 236,952\n",
            "Non-trainable params: 0\n",
            "_________________________________________________________________\n"
          ]
        }
      ]
    },
    {
      "cell_type": "code",
      "source": [
        "#compilemos el modelo y optimizemos con adam \n",
        "model_base.compile(optimizer= 'adam', loss ='categorical_crossentropy', metrics =['accuracy'])\n",
        "\n",
        "history = model_base.fit(\n",
        "    train_generator,\n",
        "    epochs = 20,\n",
        "    validation_data = validation_generator\n",
        ")"
      ],
      "metadata": {
        "colab": {
          "base_uri": "https://localhost:8080/"
        },
        "id": "FrdvEU_wzkgQ",
        "outputId": "7862847a-abb0-4fc5-8fb5-5e7036474d5c"
      },
      "execution_count": null,
      "outputs": [
        {
          "output_type": "stream",
          "name": "stdout",
          "text": [
            "Epoch 1/20\n",
            "215/215 [==============================] - 10s 34ms/step - loss: 2.1332 - accuracy: 0.3627 - val_loss: 1.6698 - val_accuracy: 0.4968\n",
            "Epoch 2/20\n",
            "215/215 [==============================] - 7s 32ms/step - loss: 1.2201 - accuracy: 0.6291 - val_loss: 1.3808 - val_accuracy: 0.5923\n",
            "Epoch 3/20\n",
            "215/215 [==============================] - 7s 32ms/step - loss: 0.8879 - accuracy: 0.7278 - val_loss: 1.1778 - val_accuracy: 0.6379\n",
            "Epoch 4/20\n",
            "215/215 [==============================] - 7s 31ms/step - loss: 0.6665 - accuracy: 0.7982 - val_loss: 1.1227 - val_accuracy: 0.6618\n",
            "Epoch 5/20\n",
            "215/215 [==============================] - 7s 32ms/step - loss: 0.5078 - accuracy: 0.8527 - val_loss: 1.0455 - val_accuracy: 0.6800\n",
            "Epoch 6/20\n",
            "215/215 [==============================] - 7s 32ms/step - loss: 0.3806 - accuracy: 0.8953 - val_loss: 0.9768 - val_accuracy: 0.7018\n",
            "Epoch 7/20\n",
            "215/215 [==============================] - 7s 34ms/step - loss: 0.2930 - accuracy: 0.9225 - val_loss: 1.0297 - val_accuracy: 0.7263\n",
            "Epoch 8/20\n",
            "215/215 [==============================] - 7s 32ms/step - loss: 0.2255 - accuracy: 0.9426 - val_loss: 0.9404 - val_accuracy: 0.7347\n",
            "Epoch 9/20\n",
            "215/215 [==============================] - 7s 31ms/step - loss: 0.1704 - accuracy: 0.9616 - val_loss: 1.0150 - val_accuracy: 0.7418\n",
            "Epoch 10/20\n",
            "215/215 [==============================] - 7s 31ms/step - loss: 0.1265 - accuracy: 0.9750 - val_loss: 0.9868 - val_accuracy: 0.7621\n",
            "Epoch 11/20\n",
            "215/215 [==============================] - 7s 33ms/step - loss: 0.1197 - accuracy: 0.9732 - val_loss: 1.0656 - val_accuracy: 0.7516\n",
            "Epoch 12/20\n",
            "215/215 [==============================] - 7s 31ms/step - loss: 0.0763 - accuracy: 0.9894 - val_loss: 1.0408 - val_accuracy: 0.7474\n",
            "Epoch 13/20\n",
            "215/215 [==============================] - 7s 32ms/step - loss: 0.0568 - accuracy: 0.9934 - val_loss: 1.0970 - val_accuracy: 0.7600\n",
            "Epoch 14/20\n",
            "215/215 [==============================] - 7s 32ms/step - loss: 0.0439 - accuracy: 0.9963 - val_loss: 1.1308 - val_accuracy: 0.7530\n",
            "Epoch 15/20\n",
            "215/215 [==============================] - 7s 34ms/step - loss: 0.0359 - accuracy: 0.9975 - val_loss: 1.1640 - val_accuracy: 0.7593\n",
            "Epoch 16/20\n",
            "215/215 [==============================] - 8s 36ms/step - loss: 0.0319 - accuracy: 0.9965 - val_loss: 1.1944 - val_accuracy: 0.7747\n",
            "Epoch 17/20\n",
            "215/215 [==============================] - 7s 32ms/step - loss: 0.0378 - accuracy: 0.9931 - val_loss: 1.2750 - val_accuracy: 0.7425\n",
            "Epoch 18/20\n",
            "215/215 [==============================] - 7s 32ms/step - loss: 0.0231 - accuracy: 0.9975 - val_loss: 1.3457 - val_accuracy: 0.7270\n",
            "Epoch 19/20\n",
            "215/215 [==============================] - 7s 34ms/step - loss: 0.0233 - accuracy: 0.9964 - val_loss: 1.2581 - val_accuracy: 0.7712\n",
            "Epoch 20/20\n",
            "215/215 [==============================] - 7s 32ms/step - loss: 0.0109 - accuracy: 0.9998 - val_loss: 1.2880 - val_accuracy: 0.7839\n"
          ]
        }
      ]
    },
    {
      "cell_type": "code",
      "source": [
        "results = model_base.evaluate(test_generator)"
      ],
      "metadata": {
        "colab": {
          "base_uri": "https://localhost:8080/"
        },
        "id": "H2-GYc8OeRX9",
        "outputId": "134c97de-b475-4c03-cb4a-7ca1a4f6905d"
      },
      "execution_count": null,
      "outputs": [
        {
          "output_type": "stream",
          "name": "stdout",
          "text": [
            "57/57 [==============================] - 2s 31ms/step - loss: 1.1743 - accuracy: 0.7856\n"
          ]
        }
      ]
    },
    {
      "cell_type": "code",
      "source": [
        "#creando una visualizacion con una funcion continua. \n",
        "#como fue la curva de aprendizaje , por medio de las epocas\n",
        "#se usaran dos graficas: la primera se vera la precicion en el entrenamiento\n",
        "#ademas se usara el training loss y la validacion\n",
        "def visualizacion_resultados(history):\n",
        "  epochs = [i for i in range(20)]\n",
        "  fig, ax = plt.subplots(1,2)\n",
        "  train_acc = history.history['accuracy']\n",
        "  train_loss = history.history['loss']\n",
        "  val_acc = history.history['val_accuracy']\n",
        "  val_loss = history.history['val_loss']\n",
        "  fig.set_size_inches(16,9)\n",
        "\n",
        "  ax[0].plot(epochs,train_acc,'go-', label= 'Entrenamiento accuracy')\n",
        "  ax[0].plot(epochs, val_acc, 'ro-', label= 'Validation accuracy')\n",
        "  ax[0].set_title('Entrenamiento & validation accuracy')\n",
        "  ax[0].legend()\n",
        "  ax[0].set_xlabel('Epochs')\n",
        "  ax[0].set_ylabel('Accuracy')\n",
        "\n",
        "  ax[1].plot(epochs,train_loss,'go-', label= 'Entrenamiento loss')\n",
        "  ax[1].plot(epochs, val_loss, 'ro-', label= 'Validation loss')\n",
        "  ax[1].set_title('Entrenamiento & validation loss')\n",
        "  ax[1].legend()\n",
        "  ax[1].set_xlabel('Epochs')\n",
        "  ax[1].set_ylabel('Loss')\n",
        "\n",
        "  plt.show()\n",
        "\n",
        "\n"
      ],
      "metadata": {
        "id": "OcURalssecrb"
      },
      "execution_count": null,
      "outputs": []
    },
    {
      "cell_type": "code",
      "source": [
        "visualizacion_resultados(history)"
      ],
      "metadata": {
        "colab": {
          "base_uri": "https://localhost:8080/",
          "height": 567
        },
        "id": "YpVERbWthmkG",
        "outputId": "3b955cd2-e4e0-4d19-b8e2-c068f72c4e1e"
      },
      "execution_count": null,
      "outputs": [
        {
          "output_type": "display_data",
          "data": {
            "text/plain": [
              "<Figure size 1152x648 with 2 Axes>"
            ],
            "image/png": "[encoded data removed]"
          },
          "metadata": {
            "needs_background": "light"
          }
        }
      ]
    },
    {
      "cell_type": "code",
      "source": [
        "from tensorflow.keras import regularizers"
      ],
      "metadata": {
        "id": "QpCXY3w9Nc7p"
      },
      "execution_count": null,
      "outputs": []
    },
    {
      "cell_type": "code",
      "source": [
        "#Vamos a aplicar regularizadores sobre la misma arquitectura \n",
        "model_optimizer = tf.keras.models.Sequential([\n",
        "    tf.keras.layers.Flatten(input_shape = (28, 28, 1)),\n",
        "    #vamos a aplicar los regularizadores en esta capa 'kernel_regularizer'\n",
        "    tf.keras.layers.Dense(256, kernel_regularizer= regularizers.l2(1e-5) ,activation = 'relu'),\n",
        "    #vamos a poner una capa de dropout\n",
        "    tf.keras.layers.Dropout(0.2),\n",
        "    #otro regularizer\n",
        "    tf.keras.layers.Dense(128, kernel_regularizer= regularizers.l2(1e-5) ,activation = 'relu'),\n",
        "    #otro dropout\n",
        "    tf.keras.layers.Dropout(0.2),\n",
        "    tf.keras.layers.Dense(len(classes), activation = 'softmax')\n",
        "\n",
        "])\n",
        "\n",
        "model_optimizer.summary()"
      ],
      "metadata": {
        "colab": {
          "base_uri": "https://localhost:8080/"
        },
        "id": "JDbfpauHLGTI",
        "outputId": "3229b32f-2795-4750-95ab-80634391dd26"
      },
      "execution_count": null,
      "outputs": [
        {
          "output_type": "stream",
          "name": "stdout",
          "text": [
            "Model: \"sequential_1\"\n",
            "_________________________________________________________________\n",
            " Layer (type)                Output Shape              Param #   \n",
            "=================================================================\n",
            " flatten_1 (Flatten)         (None, 784)               0         \n",
            "                                                                 \n",
            " dense_3 (Dense)             (None, 256)               200960    \n",
            "                                                                 \n",
            " dropout (Dropout)           (None, 256)               0         \n",
            "                                                                 \n",
            " dense_4 (Dense)             (None, 128)               32896     \n",
            "                                                                 \n",
            " dropout_1 (Dropout)         (None, 128)               0         \n",
            "                                                                 \n",
            " dense_5 (Dense)             (None, 24)                3096      \n",
            "                                                                 \n",
            "=================================================================\n",
            "Total params: 236,952\n",
            "Trainable params: 236,952\n",
            "Non-trainable params: 0\n",
            "_________________________________________________________________\n"
          ]
        }
      ]
    },
    {
      "cell_type": "code",
      "source": [
        "model_optimizer.compile(optimizer= 'adam', loss ='categorical_crossentropy', metrics =['accuracy'])\n",
        "\n",
        "history_optimizer = model_optimizer.fit(\n",
        "    train_generator,\n",
        "    epochs = 20,\n",
        "    validation_data = validation_generator\n",
        ")"
      ],
      "metadata": {
        "colab": {
          "base_uri": "https://localhost:8080/"
        },
        "id": "f4nnxqQdPiYM",
        "outputId": "ea7cd714-a2d1-4c72-8520-23937fe4fac6"
      },
      "execution_count": null,
      "outputs": [
        {
          "output_type": "stream",
          "name": "stdout",
          "text": [
            "Epoch 1/20\n",
            "215/215 [==============================] - 8s 33ms/step - loss: 2.4702 - accuracy: 0.2431 - val_loss: 1.7483 - val_accuracy: 0.4877\n",
            "Epoch 2/20\n",
            "215/215 [==============================] - 7s 31ms/step - loss: 1.5572 - accuracy: 0.4895 - val_loss: 1.3692 - val_accuracy: 0.5775\n",
            "Epoch 3/20\n",
            "215/215 [==============================] - 7s 33ms/step - loss: 1.1713 - accuracy: 0.6088 - val_loss: 1.2104 - val_accuracy: 0.6021\n",
            "Epoch 4/20\n",
            "215/215 [==============================] - 7s 32ms/step - loss: 0.9367 - accuracy: 0.6833 - val_loss: 1.0110 - val_accuracy: 0.6744\n",
            "Epoch 5/20\n",
            "215/215 [==============================] - 7s 32ms/step - loss: 0.7749 - accuracy: 0.7410 - val_loss: 0.9359 - val_accuracy: 0.6926\n",
            "Epoch 6/20\n",
            "215/215 [==============================] - 7s 32ms/step - loss: 0.6611 - accuracy: 0.7772 - val_loss: 0.9562 - val_accuracy: 0.6870\n",
            "Epoch 7/20\n",
            "215/215 [==============================] - 7s 32ms/step - loss: 0.5619 - accuracy: 0.8093 - val_loss: 0.8819 - val_accuracy: 0.7214\n",
            "Epoch 8/20\n",
            "215/215 [==============================] - 7s 32ms/step - loss: 0.4957 - accuracy: 0.8314 - val_loss: 0.8481 - val_accuracy: 0.7277\n",
            "Epoch 9/20\n",
            "215/215 [==============================] - 7s 32ms/step - loss: 0.4377 - accuracy: 0.8520 - val_loss: 0.7985 - val_accuracy: 0.7544\n",
            "Epoch 10/20\n",
            "215/215 [==============================] - 7s 31ms/step - loss: 0.3858 - accuracy: 0.8687 - val_loss: 0.8449 - val_accuracy: 0.7418\n",
            "Epoch 11/20\n",
            "215/215 [==============================] - 7s 32ms/step - loss: 0.3511 - accuracy: 0.8813 - val_loss: 0.8810 - val_accuracy: 0.7600\n",
            "Epoch 12/20\n",
            "215/215 [==============================] - 7s 32ms/step - loss: 0.3248 - accuracy: 0.8897 - val_loss: 0.9404 - val_accuracy: 0.7446\n",
            "Epoch 13/20\n",
            "215/215 [==============================] - 7s 32ms/step - loss: 0.3102 - accuracy: 0.8962 - val_loss: 0.7861 - val_accuracy: 0.7698\n",
            "Epoch 14/20\n",
            "215/215 [==============================] - 7s 32ms/step - loss: 0.2773 - accuracy: 0.9065 - val_loss: 0.8234 - val_accuracy: 0.7796\n",
            "Epoch 15/20\n",
            "215/215 [==============================] - 7s 32ms/step - loss: 0.2807 - accuracy: 0.9084 - val_loss: 0.7896 - val_accuracy: 0.8000\n",
            "Epoch 16/20\n",
            "215/215 [==============================] - 7s 33ms/step - loss: 0.2496 - accuracy: 0.9178 - val_loss: 0.8276 - val_accuracy: 0.7804\n",
            "Epoch 17/20\n",
            "215/215 [==============================] - 7s 31ms/step - loss: 0.2316 - accuracy: 0.9235 - val_loss: 0.7956 - val_accuracy: 0.7832\n",
            "Epoch 18/20\n",
            "215/215 [==============================] - 7s 32ms/step - loss: 0.2135 - accuracy: 0.9311 - val_loss: 0.8666 - val_accuracy: 0.7888\n",
            "Epoch 19/20\n",
            "215/215 [==============================] - 7s 32ms/step - loss: 0.2062 - accuracy: 0.9325 - val_loss: 0.8650 - val_accuracy: 0.8021\n",
            "Epoch 20/20\n",
            "215/215 [==============================] - 10s 47ms/step - loss: 0.1978 - accuracy: 0.9348 - val_loss: 0.8844 - val_accuracy: 0.7811\n"
          ]
        }
      ]
    },
    {
      "cell_type": "code",
      "source": [
        "visualizacion_resultados(history_optimizer)"
      ],
      "metadata": {
        "colab": {
          "base_uri": "https://localhost:8080/",
          "height": 567
        },
        "id": "MjLpyD41QB_b",
        "outputId": "a65f524f-bdf8-4605-e347-c6781c72eedf"
      },
      "execution_count": null,
      "outputs": [
        {
          "output_type": "display_data",
          "data": {
            "text/plain": [
              "<Figure size 1152x648 with 2 Axes>"
            ],
            "image/png": "[encoded data removed]"
          },
          "metadata": {
            "needs_background": "light"
          }
        }
      ]
    },
    {
      "cell_type": "markdown",
      "source": [
        "##Recomendaciones:\n",
        "Preprocesamiento: buscar datos nulos, aplicar normalizacion, ver la cantidad de datos, visualizar la base de datos. \\n\n",
        "Variables (como iniciar los parametros): \n",
        "Convoluciones (3x3), Pooling (2x2), Flatten (imágenes), Neuronas (68, 128, 256, 512), Learning Rate (0.001)ADAM, L1_2(1e-5), Dropout. \\n \n",
        "Recomendaciones de funciones de activacion:\n",
        "multi clases: softmax, binarios: sigmoidal, regresiones: funcion lineal, Clases predicciones mayor que 0: RelU.\n",
        "\n"
      ],
      "metadata": {
        "id": "m9daOVE6RAp0"
      }
    },
    {
      "cell_type": "code",
      "source": [
        "#hagamos un modelo convulucional\n",
        "model_convolutional = tf.keras.models.Sequential([\n",
        "    #agreguemos una capa convolucional\n",
        "    tf.keras.layers.Conv2D(75, (3,3), activation= 'relu', input_shape = (28, 28, 1)),#multiplos 25\n",
        "    #agreguemos la reduccion de dimencionalidad\n",
        "    tf.keras.layers.MaxPool2D((2,2)),\n",
        "    tf.keras.layers.Flatten(),\n",
        "    tf.keras.layers.Dense(256, kernel_regularizer= regularizers.l2(1e-5) ,activation = 'relu'),\n",
        "    tf.keras.layers.Dropout(0.2),\n",
        "    tf.keras.layers.Dense(128, kernel_regularizer= regularizers.l2(1e-5) ,activation = 'relu'),\n",
        "    tf.keras.layers.Dropout(0.2),\n",
        "    tf.keras.layers.Dense(len(classes), activation = 'softmax')\n",
        "\n",
        "])\n",
        "\n",
        "model_convolutional.summary()\n",
        "\n",
        "model_convolutional.compile(optimizer= 'adam', loss ='categorical_crossentropy', metrics =['accuracy'])\n",
        "\n",
        "history_convolutional = model_convolutional.fit(\n",
        "    train_generator,\n",
        "    epochs = 20,\n",
        "    validation_data = validation_generator\n",
        ")"
      ],
      "metadata": {
        "colab": {
          "base_uri": "https://localhost:8080/"
        },
        "id": "TLEnnx7oQzlO",
        "outputId": "8321f750-8cf5-41ba-ff78-7472e3fa9b77"
      },
      "execution_count": null,
      "outputs": [
        {
          "output_type": "stream",
          "name": "stdout",
          "text": [
            "Model: \"sequential_2\"\n",
            "_________________________________________________________________\n",
            " Layer (type)                Output Shape              Param #   \n",
            "=================================================================\n",
            " conv2d (Conv2D)             (None, 26, 26, 75)        750       \n",
            "                                                                 \n",
            " max_pooling2d (MaxPooling2D  (None, 13, 13, 75)       0         \n",
            " )                                                               \n",
            "                                                                 \n",
            " flatten_2 (Flatten)         (None, 12675)             0         \n",
            "                                                                 \n",
            " dense_6 (Dense)             (None, 256)               3245056   \n",
            "                                                                 \n",
            " dropout_2 (Dropout)         (None, 256)               0         \n",
            "                                                                 \n",
            " dense_7 (Dense)             (None, 128)               32896     \n",
            "                                                                 \n",
            " dropout_3 (Dropout)         (None, 128)               0         \n",
            "                                                                 \n",
            " dense_8 (Dense)             (None, 24)                3096      \n",
            "                                                                 \n",
            "=================================================================\n",
            "Total params: 3,281,798\n",
            "Trainable params: 3,281,798\n",
            "Non-trainable params: 0\n",
            "_________________________________________________________________\n",
            "Epoch 1/20\n",
            "215/215 [==============================] - 16s 45ms/step - loss: 1.8398 - accuracy: 0.4395 - val_loss: 0.8510 - val_accuracy: 0.7474\n",
            "Epoch 2/20\n",
            "215/215 [==============================] - 11s 53ms/step - loss: 0.4270 - accuracy: 0.8716 - val_loss: 0.5980 - val_accuracy: 0.8225\n",
            "Epoch 3/20\n",
            "215/215 [==============================] - 9s 41ms/step - loss: 0.1731 - accuracy: 0.9565 - val_loss: 0.5869 - val_accuracy: 0.8505\n",
            "Epoch 4/20\n",
            "215/215 [==============================] - 7s 34ms/step - loss: 0.0929 - accuracy: 0.9818 - val_loss: 0.5676 - val_accuracy: 0.8435\n",
            "Epoch 5/20\n",
            "215/215 [==============================] - 7s 33ms/step - loss: 0.0695 - accuracy: 0.9880 - val_loss: 0.5931 - val_accuracy: 0.8407\n",
            "Epoch 6/20\n",
            "215/215 [==============================] - 7s 34ms/step - loss: 0.0543 - accuracy: 0.9922 - val_loss: 0.6437 - val_accuracy: 0.8330\n",
            "Epoch 7/20\n",
            "215/215 [==============================] - 8s 39ms/step - loss: 0.0484 - accuracy: 0.9937 - val_loss: 0.6404 - val_accuracy: 0.8604\n",
            "Epoch 8/20\n",
            "215/215 [==============================] - 7s 34ms/step - loss: 0.0441 - accuracy: 0.9946 - val_loss: 0.6482 - val_accuracy: 0.8512\n",
            "Epoch 9/20\n",
            "215/215 [==============================] - 7s 34ms/step - loss: 0.0396 - accuracy: 0.9958 - val_loss: 0.6826 - val_accuracy: 0.8442\n",
            "Epoch 10/20\n",
            "215/215 [==============================] - 8s 35ms/step - loss: 0.0398 - accuracy: 0.9958 - val_loss: 0.6557 - val_accuracy: 0.8540\n",
            "Epoch 11/20\n",
            "215/215 [==============================] - 8s 35ms/step - loss: 0.0369 - accuracy: 0.9968 - val_loss: 0.6811 - val_accuracy: 0.8512\n",
            "Epoch 12/20\n",
            "215/215 [==============================] - 7s 35ms/step - loss: 0.0362 - accuracy: 0.9970 - val_loss: 0.7623 - val_accuracy: 0.8386\n",
            "Epoch 13/20\n",
            "215/215 [==============================] - 8s 37ms/step - loss: 0.0368 - accuracy: 0.9964 - val_loss: 0.6887 - val_accuracy: 0.8372\n",
            "Epoch 14/20\n",
            "215/215 [==============================] - 12s 54ms/step - loss: 0.0354 - accuracy: 0.9969 - val_loss: 0.7781 - val_accuracy: 0.8302\n",
            "Epoch 15/20\n",
            "215/215 [==============================] - 9s 42ms/step - loss: 0.0333 - accuracy: 0.9973 - val_loss: 0.7112 - val_accuracy: 0.8547\n",
            "Epoch 16/20\n",
            "215/215 [==============================] - 7s 34ms/step - loss: 0.0353 - accuracy: 0.9967 - val_loss: 0.7444 - val_accuracy: 0.8414\n",
            "Epoch 17/20\n",
            "215/215 [==============================] - 7s 35ms/step - loss: 0.0329 - accuracy: 0.9970 - val_loss: 0.7941 - val_accuracy: 0.8596\n",
            "Epoch 18/20\n",
            "215/215 [==============================] - 9s 43ms/step - loss: 0.0346 - accuracy: 0.9966 - val_loss: 0.8231 - val_accuracy: 0.8393\n",
            "Epoch 19/20\n",
            "215/215 [==============================] - 8s 37ms/step - loss: 0.0340 - accuracy: 0.9969 - val_loss: 0.7107 - val_accuracy: 0.8632\n",
            "Epoch 20/20\n",
            "215/215 [==============================] - 8s 39ms/step - loss: 0.0340 - accuracy: 0.9966 - val_loss: 0.7105 - val_accuracy: 0.8723\n"
          ]
        }
      ]
    },
    {
      "cell_type": "code",
      "source": [
        "visualizacion_resultados(history_convolutional)"
      ],
      "metadata": {
        "colab": {
          "base_uri": "https://localhost:8080/",
          "height": 567
        },
        "id": "5l4RR7J9TkmJ",
        "outputId": "d6b3c001-a27a-4f77-e73e-8cae957a6614"
      },
      "execution_count": null,
      "outputs": [
        {
          "output_type": "display_data",
          "data": {
            "text/plain": [
              "<Figure size 1152x648 with 2 Axes>"
            ],
            "image/png": "[encoded data removed]"
          },
          "metadata": {
            "needs_background": "light"
          }
        }
      ]
    },
    {
      "cell_type": "code",
      "source": [
        "#Usemos callbacks \n",
        "model_callback = tf.keras.models.Sequential([\n",
        "    tf.keras.layers.Conv2D(75, (3,3), activation= 'relu', input_shape = (28, 28, 1)),\n",
        "    tf.keras.layers.MaxPool2D((2,2)),\n",
        "    tf.keras.layers.Flatten(),\n",
        "    tf.keras.layers.Dense(256, kernel_regularizer= regularizers.l2(1e-5) ,activation = 'relu'),\n",
        "    tf.keras.layers.Dropout(0.2),\n",
        "    tf.keras.layers.Dense(128, kernel_regularizer= regularizers.l2(1e-5) ,activation = 'relu'),\n",
        "    tf.keras.layers.Dropout(0.2),\n",
        "    tf.keras.layers.Dense(len(classes), activation = 'softmax')\n",
        "\n",
        "])\n",
        "\n",
        "model_callback.summary()\n",
        "\n",
        "model_callback.compile(optimizer= 'adam', loss ='categorical_crossentropy', metrics =['accuracy'])"
      ],
      "metadata": {
        "colab": {
          "base_uri": "https://localhost:8080/"
        },
        "id": "yijU-q6PKh4f",
        "outputId": "d720d6c4-236b-4e60-8ce4-06ae16c14357"
      },
      "execution_count": null,
      "outputs": [
        {
          "output_type": "stream",
          "name": "stdout",
          "text": [
            "Model: \"sequential_3\"\n",
            "_________________________________________________________________\n",
            " Layer (type)                Output Shape              Param #   \n",
            "=================================================================\n",
            " conv2d_1 (Conv2D)           (None, 26, 26, 75)        750       \n",
            "                                                                 \n",
            " max_pooling2d_1 (MaxPooling  (None, 13, 13, 75)       0         \n",
            " 2D)                                                             \n",
            "                                                                 \n",
            " flatten_3 (Flatten)         (None, 12675)             0         \n",
            "                                                                 \n",
            " dense_9 (Dense)             (None, 256)               3245056   \n",
            "                                                                 \n",
            " dropout_4 (Dropout)         (None, 256)               0         \n",
            "                                                                 \n",
            " dense_10 (Dense)            (None, 128)               32896     \n",
            "                                                                 \n",
            " dropout_5 (Dropout)         (None, 128)               0         \n",
            "                                                                 \n",
            " dense_11 (Dense)            (None, 24)                3096      \n",
            "                                                                 \n",
            "=================================================================\n",
            "Total params: 3,281,798\n",
            "Trainable params: 3,281,798\n",
            "Non-trainable params: 0\n",
            "_________________________________________________________________\n"
          ]
        }
      ]
    },
    {
      "cell_type": "code",
      "source": [
        "from tensorflow.keras.callbacks import Callback\n",
        "\n",
        "class TrainingCallback(Callback):\n",
        "  def on_epoch_end(self, epoch, logs ={}):\n",
        "    if logs.get('accuracy')>0.95:\n",
        "      print('Lo logramos, nuestro modelo llego a 95%; detenemos el entrenamiento')\n",
        "      self.model.stop_training = True\n"
      ],
      "metadata": {
        "id": "vj78Tp0ZN61w"
      },
      "execution_count": null,
      "outputs": []
    },
    {
      "cell_type": "code",
      "source": [
        "callback = TrainingCallback()\n",
        "\n",
        "history_callback = model_callback.fit(\n",
        "    train_generator,\n",
        "    epochs = 20,\n",
        "    callbacks =[callback],\n",
        "    validation_data = validation_generator\n",
        ")"
      ],
      "metadata": {
        "colab": {
          "base_uri": "https://localhost:8080/"
        },
        "id": "X1xTXfn5P6e1",
        "outputId": "a9564a54-b77e-4af2-f863-8e5a6c39205e"
      },
      "execution_count": null,
      "outputs": [
        {
          "output_type": "stream",
          "name": "stdout",
          "text": [
            "Epoch 1/20\n",
            "215/215 [==============================] - 9s 39ms/step - loss: 1.5248 - accuracy: 0.5440 - val_loss: 0.7623 - val_accuracy: 0.7600\n",
            "Epoch 2/20\n",
            "215/215 [==============================] - 7s 34ms/step - loss: 0.2989 - accuracy: 0.9155 - val_loss: 0.5643 - val_accuracy: 0.8330\n",
            "Epoch 3/20\n",
            "215/215 [==============================] - ETA: 0s - loss: 0.1124 - accuracy: 0.9778Lo logramos, nuestro modelo llego a 95%; detenemos el entrenamiento\n",
            "215/215 [==============================] - 9s 40ms/step - loss: 0.1124 - accuracy: 0.9778 - val_loss: 0.5831 - val_accuracy: 0.8302\n"
          ]
        }
      ]
    },
    {
      "cell_type": "code",
      "source": [
        "def get_model():\n",
        "  model = tf.keras.models.Sequential([\n",
        "    tf.keras.layers.Conv2D(75, (3,3), activation= 'relu', input_shape = (28, 28, 1)),\n",
        "    tf.keras.layers.MaxPool2D((2,2)),\n",
        "    tf.keras.layers.Flatten(),\n",
        "    tf.keras.layers.Dense(256, kernel_regularizer= regularizers.l2(1e-5) ,activation = 'relu'),\n",
        "    tf.keras.layers.Dropout(0.2),\n",
        "    tf.keras.layers.Dense(128, kernel_regularizer= regularizers.l2(1e-5) ,activation = 'relu'),\n",
        "    tf.keras.layers.Dropout(0.2),\n",
        "    tf.keras.layers.Dense(len(classes), activation = 'softmax')\n",
        "\n",
        "  ])\n",
        "  return model\n",
        "\n",
        "#Vamos a usar el earlystoping \n",
        "\n",
        "model_early = get_model()\n",
        "model_early.summary()\n",
        "\n",
        "model_early.compile(optimizer= 'adam', loss ='categorical_crossentropy', metrics =['accuracy'])\n"
      ],
      "metadata": {
        "colab": {
          "base_uri": "https://localhost:8080/"
        },
        "id": "XGR8KkFnRMXm",
        "outputId": "9848bffb-4aff-4ff9-c1df-c74fc2a69f24"
      },
      "execution_count": null,
      "outputs": [
        {
          "output_type": "stream",
          "name": "stdout",
          "text": [
            "Model: \"sequential_4\"\n",
            "_________________________________________________________________\n",
            " Layer (type)                Output Shape              Param #   \n",
            "=================================================================\n",
            " conv2d_2 (Conv2D)           (None, 26, 26, 75)        750       \n",
            "                                                                 \n",
            " max_pooling2d_2 (MaxPooling  (None, 13, 13, 75)       0         \n",
            " 2D)                                                             \n",
            "                                                                 \n",
            " flatten_4 (Flatten)         (None, 12675)             0         \n",
            "                                                                 \n",
            " dense_12 (Dense)            (None, 256)               3245056   \n",
            "                                                                 \n",
            " dropout_6 (Dropout)         (None, 256)               0         \n",
            "                                                                 \n",
            " dense_13 (Dense)            (None, 128)               32896     \n",
            "                                                                 \n",
            " dropout_7 (Dropout)         (None, 128)               0         \n",
            "                                                                 \n",
            " dense_14 (Dense)            (None, 24)                3096      \n",
            "                                                                 \n",
            "=================================================================\n",
            "Total params: 3,281,798\n",
            "Trainable params: 3,281,798\n",
            "Non-trainable params: 0\n",
            "_________________________________________________________________\n"
          ]
        }
      ]
    },
    {
      "cell_type": "code",
      "source": [
        "#importaremos el earlystoping de tensor y lo vamos a configurar\n",
        "#'monitor' es la metricas a la cual se va a vigilar\n",
        "#'patience' va a vigilar las perdidas y si las perdidas no disminuyen lo va a parar pues ya no esta entrenando\n",
        "#'mode'  puede medir loss (con el min) o accuracy (con el max)\n",
        "callback_early = tf.keras.callbacks.EarlyStopping(monitor='loss', patience= 3, mode='auto')"
      ],
      "metadata": {
        "id": "O4ZpONBbSQDi"
      },
      "execution_count": null,
      "outputs": []
    },
    {
      "cell_type": "code",
      "source": [
        "history_early = model_early.fit(\n",
        "    train_generator,\n",
        "    epochs = 20,\n",
        "    callbacks =[callback_early],\n",
        "    validation_data = validation_generator\n",
        ")"
      ],
      "metadata": {
        "colab": {
          "base_uri": "https://localhost:8080/"
        },
        "id": "pqC-bY-fUN89",
        "outputId": "dbb81eaf-9ffc-4d21-ece1-bf3f446b2821"
      },
      "execution_count": null,
      "outputs": [
        {
          "output_type": "stream",
          "name": "stdout",
          "text": [
            "Epoch 1/20\n",
            "215/215 [==============================] - 9s 39ms/step - loss: 1.5646 - accuracy: 0.5302 - val_loss: 0.7719 - val_accuracy: 0.7270\n",
            "Epoch 2/20\n",
            "215/215 [==============================] - 9s 40ms/step - loss: 0.3148 - accuracy: 0.9108 - val_loss: 0.5454 - val_accuracy: 0.8232\n",
            "Epoch 3/20\n",
            "215/215 [==============================] - 10s 47ms/step - loss: 0.1184 - accuracy: 0.9762 - val_loss: 0.5862 - val_accuracy: 0.8295\n",
            "Epoch 4/20\n",
            "215/215 [==============================] - 9s 40ms/step - loss: 0.0694 - accuracy: 0.9892 - val_loss: 0.6446 - val_accuracy: 0.8337\n",
            "Epoch 5/20\n",
            "215/215 [==============================] - 9s 44ms/step - loss: 0.0527 - accuracy: 0.9936 - val_loss: 0.6287 - val_accuracy: 0.8470\n",
            "Epoch 6/20\n",
            "215/215 [==============================] - 9s 42ms/step - loss: 0.0436 - accuracy: 0.9954 - val_loss: 0.6293 - val_accuracy: 0.8386\n",
            "Epoch 7/20\n",
            "215/215 [==============================] - 7s 35ms/step - loss: 0.0388 - accuracy: 0.9964 - val_loss: 0.6347 - val_accuracy: 0.8484\n",
            "Epoch 8/20\n",
            "215/215 [==============================] - 8s 36ms/step - loss: 0.0372 - accuracy: 0.9969 - val_loss: 0.6554 - val_accuracy: 0.8428\n",
            "Epoch 9/20\n",
            "215/215 [==============================] - 8s 39ms/step - loss: 0.0342 - accuracy: 0.9973 - val_loss: 0.7210 - val_accuracy: 0.8421\n",
            "Epoch 10/20\n",
            "215/215 [==============================] - 8s 39ms/step - loss: 0.0321 - accuracy: 0.9979 - val_loss: 0.7156 - val_accuracy: 0.8575\n",
            "Epoch 11/20\n",
            "215/215 [==============================] - 9s 42ms/step - loss: 0.0310 - accuracy: 0.9981 - val_loss: 0.8181 - val_accuracy: 0.8365\n",
            "Epoch 12/20\n",
            "215/215 [==============================] - 9s 42ms/step - loss: 0.0317 - accuracy: 0.9979 - val_loss: 0.7427 - val_accuracy: 0.8323\n",
            "Epoch 13/20\n",
            "215/215 [==============================] - 8s 39ms/step - loss: 0.0346 - accuracy: 0.9969 - val_loss: 0.8145 - val_accuracy: 0.8288\n",
            "Epoch 14/20\n",
            "215/215 [==============================] - 7s 34ms/step - loss: 0.0328 - accuracy: 0.9976 - val_loss: 0.8168 - val_accuracy: 0.8421\n"
          ]
        }
      ]
    },
    {
      "cell_type": "code",
      "source": [
        "#vamos a guardar el modelo (solo la arquitectura)\n",
        "config_dict = model_early.get_config()"
      ],
      "metadata": {
        "id": "tgFFOuT0oxOl"
      },
      "execution_count": null,
      "outputs": []
    },
    {
      "cell_type": "code",
      "source": [
        "print(config_dict)"
      ],
      "metadata": {
        "colab": {
          "base_uri": "https://localhost:8080/"
        },
        "id": "1NhAYBKcpOrd",
        "outputId": "6d7883f9-e1fd-469c-8aa2-9246f164e65f"
      },
      "execution_count": null,
      "outputs": [
        {
          "output_type": "stream",
          "name": "stdout",
          "text": [
            "{'name': 'sequential_4', 'layers': [{'class_name': 'InputLayer', 'config': {'batch_input_shape': (None, 28, 28, 1), 'dtype': 'float32', 'sparse': False, 'ragged': False, 'name': 'conv2d_2_input'}}, {'class_name': 'Conv2D', 'config': {'name': 'conv2d_2', 'trainable': True, 'batch_input_shape': (None, 28, 28, 1), 'dtype': 'float32', 'filters': 75, 'kernel_size': (3, 3), 'strides': (1, 1), 'padding': 'valid', 'data_format': 'channels_last', 'dilation_rate': (1, 1), 'groups': 1, 'activation': 'relu', 'use_bias': True, 'kernel_initializer': {'class_name': 'GlorotUniform', 'config': {'seed': None}}, 'bias_initializer': {'class_name': 'Zeros', 'config': {}}, 'kernel_regularizer': None, 'bias_regularizer': None, 'activity_regularizer': None, 'kernel_constraint': None, 'bias_constraint': None}}, {'class_name': 'MaxPooling2D', 'config': {'name': 'max_pooling2d_2', 'trainable': True, 'dtype': 'float32', 'pool_size': (2, 2), 'padding': 'valid', 'strides': (2, 2), 'data_format': 'channels_last'}}, {'class_name': 'Flatten', 'config': {'name': 'flatten_4', 'trainable': True, 'dtype': 'float32', 'data_format': 'channels_last'}}, {'class_name': 'Dense', 'config': {'name': 'dense_12', 'trainable': True, 'dtype': 'float32', 'units': 256, 'activation': 'relu', 'use_bias': True, 'kernel_initializer': {'class_name': 'GlorotUniform', 'config': {'seed': None}}, 'bias_initializer': {'class_name': 'Zeros', 'config': {}}, 'kernel_regularizer': {'class_name': 'L2', 'config': {'l2': 9.999999747378752e-06}}, 'bias_regularizer': None, 'activity_regularizer': None, 'kernel_constraint': None, 'bias_constraint': None}}, {'class_name': 'Dropout', 'config': {'name': 'dropout_6', 'trainable': True, 'dtype': 'float32', 'rate': 0.2, 'noise_shape': None, 'seed': None}}, {'class_name': 'Dense', 'config': {'name': 'dense_13', 'trainable': True, 'dtype': 'float32', 'units': 128, 'activation': 'relu', 'use_bias': True, 'kernel_initializer': {'class_name': 'GlorotUniform', 'config': {'seed': None}}, 'bias_initializer': {'class_name': 'Zeros', 'config': {}}, 'kernel_regularizer': {'class_name': 'L2', 'config': {'l2': 9.999999747378752e-06}}, 'bias_regularizer': None, 'activity_regularizer': None, 'kernel_constraint': None, 'bias_constraint': None}}, {'class_name': 'Dropout', 'config': {'name': 'dropout_7', 'trainable': True, 'dtype': 'float32', 'rate': 0.2, 'noise_shape': None, 'seed': None}}, {'class_name': 'Dense', 'config': {'name': 'dense_14', 'trainable': True, 'dtype': 'float32', 'units': 24, 'activation': 'softmax', 'use_bias': True, 'kernel_initializer': {'class_name': 'GlorotUniform', 'config': {'seed': None}}, 'bias_initializer': {'class_name': 'Zeros', 'config': {}}, 'kernel_regularizer': None, 'bias_regularizer': None, 'activity_regularizer': None, 'kernel_constraint': None, 'bias_constraint': None}}]}\n"
          ]
        }
      ]
    },
    {
      "cell_type": "code",
      "source": [
        "#vamos a cargar la arquitectura sin pesos\n",
        "model_same_config = tf.keras.Sequential.from_config(config_dict)"
      ],
      "metadata": {
        "id": "KEnrMXuwpT4M"
      },
      "execution_count": null,
      "outputs": []
    },
    {
      "cell_type": "code",
      "source": [
        "#visualicemos el modelo\n",
        "model_same_config.summary()"
      ],
      "metadata": {
        "colab": {
          "base_uri": "https://localhost:8080/"
        },
        "id": "1Nt_aj5op1pY",
        "outputId": "ad92595e-5ca4-4d15-bf2c-b68ab0d3d721"
      },
      "execution_count": null,
      "outputs": [
        {
          "output_type": "stream",
          "name": "stdout",
          "text": [
            "Model: \"sequential_4\"\n",
            "_________________________________________________________________\n",
            " Layer (type)                Output Shape              Param #   \n",
            "=================================================================\n",
            " conv2d_2 (Conv2D)           (None, 26, 26, 75)        750       \n",
            "                                                                 \n",
            " max_pooling2d_2 (MaxPooling  (None, 13, 13, 75)       0         \n",
            " 2D)                                                             \n",
            "                                                                 \n",
            " flatten_4 (Flatten)         (None, 12675)             0         \n",
            "                                                                 \n",
            " dense_12 (Dense)            (None, 256)               3245056   \n",
            "                                                                 \n",
            " dropout_6 (Dropout)         (None, 256)               0         \n",
            "                                                                 \n",
            " dense_13 (Dense)            (None, 128)               32896     \n",
            "                                                                 \n",
            " dropout_7 (Dropout)         (None, 128)               0         \n",
            "                                                                 \n",
            " dense_14 (Dense)            (None, 24)                3096      \n",
            "                                                                 \n",
            "=================================================================\n",
            "Total params: 3,281,798\n",
            "Trainable params: 3,281,798\n",
            "Non-trainable params: 0\n",
            "_________________________________________________________________\n"
          ]
        }
      ]
    },
    {
      "cell_type": "code",
      "source": [
        "#ahora vamos a aprender como guardar los pesos\n",
        "from tensorflow.keras.callbacks import ModelCheckpoint"
      ],
      "metadata": {
        "id": "BKUTeto8qDud"
      },
      "execution_count": null,
      "outputs": []
    },
    {
      "cell_type": "code",
      "source": [
        "#ocuparemos una de las funciones ya hechas del modelo y lo vamos a cargar\n",
        "model_weight = get_model()\n",
        "model_weight.summary()\n",
        "model_weight.compile(optimizer= 'adam', loss ='categorical_crossentropy', metrics =['accuracy'])\n"
      ],
      "metadata": {
        "colab": {
          "base_uri": "https://localhost:8080/"
        },
        "id": "32VJbJCnrMy_",
        "outputId": "0bc5b1a8-703b-4e2d-bad7-77b245c50e9c"
      },
      "execution_count": null,
      "outputs": [
        {
          "output_type": "stream",
          "name": "stdout",
          "text": [
            "Model: \"sequential_7\"\n",
            "_________________________________________________________________\n",
            " Layer (type)                Output Shape              Param #   \n",
            "=================================================================\n",
            " conv2d_5 (Conv2D)           (None, 26, 26, 75)        750       \n",
            "                                                                 \n",
            " max_pooling2d_5 (MaxPooling  (None, 13, 13, 75)       0         \n",
            " 2D)                                                             \n",
            "                                                                 \n",
            " flatten_7 (Flatten)         (None, 12675)             0         \n",
            "                                                                 \n",
            " dense_21 (Dense)            (None, 256)               3245056   \n",
            "                                                                 \n",
            " dropout_12 (Dropout)        (None, 256)               0         \n",
            "                                                                 \n",
            " dense_22 (Dense)            (None, 128)               32896     \n",
            "                                                                 \n",
            " dropout_13 (Dropout)        (None, 128)               0         \n",
            "                                                                 \n",
            " dense_23 (Dense)            (None, 24)                3096      \n",
            "                                                                 \n",
            "=================================================================\n",
            "Total params: 3,281,798\n",
            "Trainable params: 3,281,798\n",
            "Non-trainable params: 0\n",
            "_________________________________________________________________\n"
          ]
        }
      ]
    },
    {
      "cell_type": "code",
      "source": [
        "checkpoint_path = 'model_checkpoints/checkpoint'\n",
        "checkpoint_weighs = ModelCheckpoint(\n",
        "    filepath = checkpoint_path,\n",
        "    frecuency = 'epoch',\n",
        "    save_weights_only =True,\n",
        "    verbose = 1\n",
        ")"
      ],
      "metadata": {
        "id": "xQgP_Rw4sCRY"
      },
      "execution_count": null,
      "outputs": []
    },
    {
      "cell_type": "code",
      "source": [
        "history_weight = model_weight.fit(\n",
        "    train_generator,\n",
        "    epochs=20,\n",
        "    callbacks = [checkpoint_weighs],\n",
        "    validation_data = validation_generator\n",
        ")"
      ],
      "metadata": {
        "colab": {
          "base_uri": "https://localhost:8080/"
        },
        "id": "JvqIEHN8ufYL",
        "outputId": "1fc91c22-cf91-4246-c8e8-9de45693cb86"
      },
      "execution_count": null,
      "outputs": [
        {
          "output_type": "stream",
          "name": "stdout",
          "text": [
            "Epoch 1/20\n",
            "214/215 [============================>.] - ETA: 0s - loss: 1.6474 - accuracy: 0.5037\n",
            "Epoch 1: saving model to model_checkpoints/checkpoint\n",
            "215/215 [==============================] - 9s 40ms/step - loss: 1.6430 - accuracy: 0.5051 - val_loss: 0.7426 - val_accuracy: 0.7551\n",
            "Epoch 2/20\n",
            "214/215 [============================>.] - ETA: 0s - loss: 0.3522 - accuracy: 0.8963\n",
            "Epoch 2: saving model to model_checkpoints/checkpoint\n",
            "215/215 [==============================] - 7s 34ms/step - loss: 0.3514 - accuracy: 0.8965 - val_loss: 0.5564 - val_accuracy: 0.8196\n",
            "Epoch 3/20\n",
            "215/215 [==============================] - ETA: 0s - loss: 0.1348 - accuracy: 0.9708\n",
            "Epoch 3: saving model to model_checkpoints/checkpoint\n",
            "215/215 [==============================] - 8s 35ms/step - loss: 0.1348 - accuracy: 0.9708 - val_loss: 0.5559 - val_accuracy: 0.8379\n",
            "Epoch 4/20\n",
            "214/215 [============================>.] - ETA: 0s - loss: 0.0781 - accuracy: 0.9872\n",
            "Epoch 4: saving model to model_checkpoints/checkpoint\n",
            "215/215 [==============================] - 7s 35ms/step - loss: 0.0781 - accuracy: 0.9872 - val_loss: 0.5580 - val_accuracy: 0.8554\n",
            "Epoch 5/20\n",
            "213/215 [============================>.] - ETA: 0s - loss: 0.0525 - accuracy: 0.9942\n",
            "Epoch 5: saving model to model_checkpoints/checkpoint\n",
            "215/215 [==============================] - 8s 36ms/step - loss: 0.0525 - accuracy: 0.9941 - val_loss: 0.6696 - val_accuracy: 0.8519\n",
            "Epoch 6/20\n",
            "214/215 [============================>.] - ETA: 0s - loss: 0.0458 - accuracy: 0.9957\n",
            "Epoch 6: saving model to model_checkpoints/checkpoint\n",
            "215/215 [==============================] - 9s 41ms/step - loss: 0.0459 - accuracy: 0.9957 - val_loss: 0.6392 - val_accuracy: 0.8463\n",
            "Epoch 7/20\n",
            "215/215 [==============================] - ETA: 0s - loss: 0.0416 - accuracy: 0.9959\n",
            "Epoch 7: saving model to model_checkpoints/checkpoint\n",
            "215/215 [==============================] - 7s 34ms/step - loss: 0.0416 - accuracy: 0.9959 - val_loss: 0.7101 - val_accuracy: 0.8505\n",
            "Epoch 8/20\n",
            "214/215 [============================>.] - ETA: 0s - loss: 0.0394 - accuracy: 0.9964\n",
            "Epoch 8: saving model to model_checkpoints/checkpoint\n",
            "215/215 [==============================] - 7s 34ms/step - loss: 0.0394 - accuracy: 0.9964 - val_loss: 0.6676 - val_accuracy: 0.8589\n",
            "Epoch 9/20\n",
            "214/215 [============================>.] - ETA: 0s - loss: 0.0360 - accuracy: 0.9968\n",
            "Epoch 9: saving model to model_checkpoints/checkpoint\n",
            "215/215 [==============================] - 8s 36ms/step - loss: 0.0360 - accuracy: 0.9968 - val_loss: 0.6821 - val_accuracy: 0.8526\n",
            "Epoch 10/20\n",
            "214/215 [============================>.] - ETA: 0s - loss: 0.0333 - accuracy: 0.9980\n",
            "Epoch 10: saving model to model_checkpoints/checkpoint\n",
            "215/215 [==============================] - 7s 34ms/step - loss: 0.0334 - accuracy: 0.9979 - val_loss: 0.7115 - val_accuracy: 0.8456\n",
            "Epoch 11/20\n",
            "214/215 [============================>.] - ETA: 0s - loss: 0.0333 - accuracy: 0.9975\n",
            "Epoch 11: saving model to model_checkpoints/checkpoint\n",
            "215/215 [==============================] - 7s 34ms/step - loss: 0.0333 - accuracy: 0.9975 - val_loss: 0.6876 - val_accuracy: 0.8547\n",
            "Epoch 12/20\n",
            "214/215 [============================>.] - ETA: 0s - loss: 0.0317 - accuracy: 0.9979\n",
            "Epoch 12: saving model to model_checkpoints/checkpoint\n",
            "215/215 [==============================] - 7s 34ms/step - loss: 0.0318 - accuracy: 0.9979 - val_loss: 0.7881 - val_accuracy: 0.8533\n",
            "Epoch 13/20\n",
            "214/215 [============================>.] - ETA: 0s - loss: 0.0320 - accuracy: 0.9980\n",
            "Epoch 13: saving model to model_checkpoints/checkpoint\n",
            "215/215 [==============================] - 8s 35ms/step - loss: 0.0321 - accuracy: 0.9980 - val_loss: 0.6688 - val_accuracy: 0.8625\n",
            "Epoch 14/20\n",
            "214/215 [============================>.] - ETA: 0s - loss: 0.0319 - accuracy: 0.9978\n",
            "Epoch 14: saving model to model_checkpoints/checkpoint\n",
            "215/215 [==============================] - 7s 34ms/step - loss: 0.0319 - accuracy: 0.9978 - val_loss: 0.7012 - val_accuracy: 0.8688\n",
            "Epoch 15/20\n",
            "214/215 [============================>.] - ETA: 0s - loss: 0.0329 - accuracy: 0.9971\n",
            "Epoch 15: saving model to model_checkpoints/checkpoint\n",
            "215/215 [==============================] - 7s 34ms/step - loss: 0.0329 - accuracy: 0.9971 - val_loss: 0.7045 - val_accuracy: 0.8428\n",
            "Epoch 16/20\n",
            "214/215 [============================>.] - ETA: 0s - loss: 0.0330 - accuracy: 0.9973\n",
            "Epoch 16: saving model to model_checkpoints/checkpoint\n",
            "215/215 [==============================] - 7s 34ms/step - loss: 0.0330 - accuracy: 0.9973 - val_loss: 0.8505 - val_accuracy: 0.8526\n",
            "Epoch 17/20\n",
            "215/215 [==============================] - ETA: 0s - loss: 0.0367 - accuracy: 0.9963\n",
            "Epoch 17: saving model to model_checkpoints/checkpoint\n",
            "215/215 [==============================] - 8s 35ms/step - loss: 0.0367 - accuracy: 0.9963 - val_loss: 0.7819 - val_accuracy: 0.8625\n",
            "Epoch 18/20\n",
            "215/215 [==============================] - ETA: 0s - loss: 0.0312 - accuracy: 0.9981\n",
            "Epoch 18: saving model to model_checkpoints/checkpoint\n",
            "215/215 [==============================] - 7s 35ms/step - loss: 0.0312 - accuracy: 0.9981 - val_loss: 0.8434 - val_accuracy: 0.8379\n",
            "Epoch 19/20\n",
            "215/215 [==============================] - ETA: 0s - loss: 0.0306 - accuracy: 0.9984\n",
            "Epoch 19: saving model to model_checkpoints/checkpoint\n",
            "215/215 [==============================] - 7s 34ms/step - loss: 0.0306 - accuracy: 0.9984 - val_loss: 0.8708 - val_accuracy: 0.8428\n",
            "Epoch 20/20\n",
            "215/215 [==============================] - ETA: 0s - loss: 0.0311 - accuracy: 0.9976\n",
            "Epoch 20: saving model to model_checkpoints/checkpoint\n",
            "215/215 [==============================] - 7s 34ms/step - loss: 0.0311 - accuracy: 0.9976 - val_loss: 0.8498 - val_accuracy: 0.8554\n"
          ]
        }
      ]
    },
    {
      "cell_type": "code",
      "source": [
        "#vamos a salvar los pesos de manera manual\n",
        "#solo guarda la  ultima configuracion\n",
        "model_weight.save_weights('model_manul/my_model')"
      ],
      "metadata": {
        "id": "S34ZPwVVv2Q_"
      },
      "execution_count": null,
      "outputs": []
    },
    {
      "cell_type": "code",
      "source": [
        "#vamos a cargar  el modelo\n",
        "model_weights2 =get_model()\n",
        "model_weights2.compile(optimizer= 'adam', loss ='categorical_crossentropy', metrics =['accuracy'])"
      ],
      "metadata": {
        "id": "uPnpAtrgwih9"
      },
      "execution_count": null,
      "outputs": []
    },
    {
      "cell_type": "code",
      "source": [
        "#vamos a carcar los pesos\n",
        "model_weights2.load_weights(checkpoint_path)"
      ],
      "metadata": {
        "colab": {
          "base_uri": "https://localhost:8080/"
        },
        "id": "qBKMSc2wxfgb",
        "outputId": "48532596-c23d-452f-e6da-5c8042cdcfeb"
      },
      "execution_count": null,
      "outputs": [
        {
          "output_type": "execute_result",
          "data": {
            "text/plain": [
              "<tensorflow.python.training.tracking.util.CheckpointLoadStatus at 0x7fa00c2b5a60>"
            ]
          },
          "metadata": {},
          "execution_count": 47
        }
      ]
    },
    {
      "cell_type": "code",
      "source": [
        "model_weights2.evaluate(test_generator)"
      ],
      "metadata": {
        "colab": {
          "base_uri": "https://localhost:8080/"
        },
        "id": "McH54UqTx3vU",
        "outputId": "e9812fbf-0d88-44ee-da91-9e8a2fa47073"
      },
      "execution_count": null,
      "outputs": [
        {
          "output_type": "stream",
          "name": "stdout",
          "text": [
            "57/57 [==============================] - 2s 31ms/step - loss: 0.8200 - accuracy: 0.8632\n"
          ]
        },
        {
          "output_type": "execute_result",
          "data": {
            "text/plain": [
              "[0.8200177550315857, 0.8632180690765381]"
            ]
          },
          "metadata": {},
          "execution_count": 48
        }
      ]
    },
    {
      "cell_type": "code",
      "source": [
        "model_weight.evaluate(test_generator)"
      ],
      "metadata": {
        "colab": {
          "base_uri": "https://localhost:8080/"
        },
        "id": "rw5WvmoQyEQE",
        "outputId": "5b2cad53-38f6-40c9-fba1-3ffa40908b07"
      },
      "execution_count": null,
      "outputs": [
        {
          "output_type": "stream",
          "name": "stdout",
          "text": [
            "57/57 [==============================] - 2s 31ms/step - loss: 0.8200 - accuracy: 0.8632\n"
          ]
        },
        {
          "output_type": "execute_result",
          "data": {
            "text/plain": [
              "[0.8200176954269409, 0.8632180690765381]"
            ]
          },
          "metadata": {},
          "execution_count": 49
        }
      ]
    },
    {
      "cell_type": "code",
      "source": [
        "#ahora al macenaremos el mejor modelo y pesos\n",
        "checkpoint_path = 'model_checkpoints_complete'\n",
        "checkpoint_weighs = ModelCheckpoint(\n",
        "    filepath = checkpoint_path,\n",
        "    frecuency = 'epoch',\n",
        "    #aqui es donde estamos modificando\n",
        "    save_weights_only =False,\n",
        "    monitor='val_accuracy',\n",
        "    save_best_only =True,\n",
        "    verbose = 1\n",
        ")"
      ],
      "metadata": {
        "id": "XovaB3qDydf5"
      },
      "execution_count": null,
      "outputs": []
    },
    {
      "cell_type": "code",
      "source": [
        "model_complete =get_model()\n",
        "model_complete.compile(optimizer= 'adam', loss ='categorical_crossentropy', metrics =['accuracy'])"
      ],
      "metadata": {
        "id": "ZE9H_JzhyjRk"
      },
      "execution_count": null,
      "outputs": []
    },
    {
      "cell_type": "code",
      "source": [
        "history_complete = model_complete.fit(\n",
        "    train_generator,\n",
        "    epochs=20,\n",
        "    callbacks = [checkpoint_weighs],\n",
        "    validation_data = validation_generator\n",
        ")"
      ],
      "metadata": {
        "colab": {
          "base_uri": "https://localhost:8080/"
        },
        "id": "rfWIxKWXzRH9",
        "outputId": "30c0f95f-dada-4495-d3c1-0307a12163e8"
      },
      "execution_count": null,
      "outputs": [
        {
          "output_type": "stream",
          "name": "stdout",
          "text": [
            "Epoch 1/20\n",
            "215/215 [==============================] - ETA: 0s - loss: 1.6717 - accuracy: 0.4923\n",
            "Epoch 1: val_accuracy improved from -inf to 0.74526, saving model to model_checkpoints_complete\n"
          ]
        },
        {
          "output_type": "stream",
          "name": "stderr",
          "text": [
            "WARNING:absl:Found untraced functions such as _jit_compiled_convolution_op while saving (showing 1 of 1). These functions will not be directly callable after loading.\n"
          ]
        },
        {
          "output_type": "stream",
          "name": "stdout",
          "text": [
            "\b\b\b\b\b\b\b\b\b\b\b\b\b\b\b\b\b\b\b\b\b\b\b\b\b\b\b\b\b\b\b\b\b\b\b\b\b\b\b\b\b\b\b\b\b\b\b\b\b\b\b\b\b\b\b\b\b\b\b\b\b\b\b\b\b\b\b\b\b\b\b\b\b\b\b\b\b\b\b\b\b\b\b\b\r215/215 [==============================] - 9s 41ms/step - loss: 1.6717 - accuracy: 0.4923 - val_loss: 0.8211 - val_accuracy: 0.7453\n",
            "Epoch 2/20\n",
            "214/215 [============================>.] - ETA: 0s - loss: 0.3823 - accuracy: 0.8860\n",
            "Epoch 2: val_accuracy improved from 0.74526 to 0.81123, saving model to model_checkpoints_complete\n"
          ]
        },
        {
          "output_type": "stream",
          "name": "stderr",
          "text": [
            "WARNING:absl:Found untraced functions such as _jit_compiled_convolution_op while saving (showing 1 of 1). These functions will not be directly callable after loading.\n"
          ]
        },
        {
          "output_type": "stream",
          "name": "stdout",
          "text": [
            "\b\b\b\b\b\b\b\b\b\b\b\b\b\b\b\b\b\b\b\b\b\b\b\b\b\b\b\b\b\b\b\b\b\b\b\b\b\b\b\b\b\b\b\b\b\b\b\b\b\b\b\b\b\b\b\b\b\b\b\b\b\b\b\b\b\b\b\b\b\b\b\b\b\b\b\b\b\b\b\b\b\b\b\b\r215/215 [==============================] - 8s 38ms/step - loss: 0.3815 - accuracy: 0.8863 - val_loss: 0.5700 - val_accuracy: 0.8112\n",
            "Epoch 3/20\n",
            "214/215 [============================>.] - ETA: 0s - loss: 0.1515 - accuracy: 0.9641\n",
            "Epoch 3: val_accuracy improved from 0.81123 to 0.83298, saving model to model_checkpoints_complete\n"
          ]
        },
        {
          "output_type": "stream",
          "name": "stderr",
          "text": [
            "WARNING:absl:Found untraced functions such as _jit_compiled_convolution_op while saving (showing 1 of 1). These functions will not be directly callable after loading.\n"
          ]
        },
        {
          "output_type": "stream",
          "name": "stdout",
          "text": [
            "\b\b\b\b\b\b\b\b\b\b\b\b\b\b\b\b\b\b\b\b\b\b\b\b\b\b\b\b\b\b\b\b\b\b\b\b\b\b\b\b\b\b\b\b\b\b\b\b\b\b\b\b\b\b\b\b\b\b\b\b\b\b\b\b\b\b\b\b\b\b\b\b\b\b\b\b\b\b\b\b\b\b\b\b\r215/215 [==============================] - 8s 38ms/step - loss: 0.1514 - accuracy: 0.9641 - val_loss: 0.5480 - val_accuracy: 0.8330\n",
            "Epoch 4/20\n",
            "214/215 [============================>.] - ETA: 0s - loss: 0.0884 - accuracy: 0.9828\n",
            "Epoch 4: val_accuracy improved from 0.83298 to 0.84211, saving model to model_checkpoints_complete\n"
          ]
        },
        {
          "output_type": "stream",
          "name": "stderr",
          "text": [
            "WARNING:absl:Found untraced functions such as _jit_compiled_convolution_op while saving (showing 1 of 1). These functions will not be directly callable after loading.\n"
          ]
        },
        {
          "output_type": "stream",
          "name": "stdout",
          "text": [
            "\b\b\b\b\b\b\b\b\b\b\b\b\b\b\b\b\b\b\b\b\b\b\b\b\b\b\b\b\b\b\b\b\b\b\b\b\b\b\b\b\b\b\b\b\b\b\b\b\b\b\b\b\b\b\b\b\b\b\b\b\b\b\b\b\b\b\b\b\b\b\b\b\b\b\b\b\b\b\b\b\b\b\b\b\r215/215 [==============================] - 8s 37ms/step - loss: 0.0884 - accuracy: 0.9828 - val_loss: 0.5710 - val_accuracy: 0.8421\n",
            "Epoch 5/20\n",
            "214/215 [============================>.] - ETA: 0s - loss: 0.0629 - accuracy: 0.9898\n",
            "Epoch 5: val_accuracy improved from 0.84211 to 0.84281, saving model to model_checkpoints_complete\n"
          ]
        },
        {
          "output_type": "stream",
          "name": "stderr",
          "text": [
            "WARNING:absl:Found untraced functions such as _jit_compiled_convolution_op while saving (showing 1 of 1). These functions will not be directly callable after loading.\n"
          ]
        },
        {
          "output_type": "stream",
          "name": "stdout",
          "text": [
            "\b\b\b\b\b\b\b\b\b\b\b\b\b\b\b\b\b\b\b\b\b\b\b\b\b\b\b\b\b\b\b\b\b\b\b\b\b\b\b\b\b\b\b\b\b\b\b\b\b\b\b\b\b\b\b\b\b\b\b\b\b\b\b\b\b\b\b\b\b\b\b\b\b\b\b\b\b\b\b\b\b\b\b\b\r215/215 [==============================] - 8s 38ms/step - loss: 0.0628 - accuracy: 0.9899 - val_loss: 0.6196 - val_accuracy: 0.8428\n",
            "Epoch 6/20\n",
            "214/215 [============================>.] - ETA: 0s - loss: 0.0514 - accuracy: 0.9929\n",
            "Epoch 6: val_accuracy did not improve from 0.84281\n",
            "215/215 [==============================] - 7s 34ms/step - loss: 0.0514 - accuracy: 0.9929 - val_loss: 0.6400 - val_accuracy: 0.8421\n",
            "Epoch 7/20\n",
            "214/215 [============================>.] - ETA: 0s - loss: 0.0473 - accuracy: 0.9940\n",
            "Epoch 7: val_accuracy did not improve from 0.84281\n",
            "215/215 [==============================] - 7s 33ms/step - loss: 0.0472 - accuracy: 0.9940 - val_loss: 0.6563 - val_accuracy: 0.8414\n",
            "Epoch 8/20\n",
            "214/215 [============================>.] - ETA: 0s - loss: 0.0418 - accuracy: 0.9956\n",
            "Epoch 8: val_accuracy improved from 0.84281 to 0.85544, saving model to model_checkpoints_complete\n"
          ]
        },
        {
          "output_type": "stream",
          "name": "stderr",
          "text": [
            "WARNING:absl:Found untraced functions such as _jit_compiled_convolution_op while saving (showing 1 of 1). These functions will not be directly callable after loading.\n"
          ]
        },
        {
          "output_type": "stream",
          "name": "stdout",
          "text": [
            "\b\b\b\b\b\b\b\b\b\b\b\b\b\b\b\b\b\b\b\b\b\b\b\b\b\b\b\b\b\b\b\b\b\b\b\b\b\b\b\b\b\b\b\b\b\b\b\b\b\b\b\b\b\b\b\b\b\b\b\b\b\b\b\b\b\b\b\b\b\b\b\b\b\b\b\b\b\b\b\b\b\b\b\b\r215/215 [==============================] - 8s 37ms/step - loss: 0.0418 - accuracy: 0.9956 - val_loss: 0.6845 - val_accuracy: 0.8554\n",
            "Epoch 9/20\n",
            "215/215 [==============================] - ETA: 0s - loss: 0.0389 - accuracy: 0.9962\n",
            "Epoch 9: val_accuracy did not improve from 0.85544\n",
            "215/215 [==============================] - 8s 35ms/step - loss: 0.0389 - accuracy: 0.9962 - val_loss: 0.6861 - val_accuracy: 0.8505\n",
            "Epoch 10/20\n",
            "215/215 [==============================] - ETA: 0s - loss: 0.0371 - accuracy: 0.9967\n",
            "Epoch 10: val_accuracy did not improve from 0.85544\n",
            "215/215 [==============================] - 7s 34ms/step - loss: 0.0371 - accuracy: 0.9967 - val_loss: 0.7351 - val_accuracy: 0.8498\n",
            "Epoch 11/20\n",
            "214/215 [============================>.] - ETA: 0s - loss: 0.0385 - accuracy: 0.9958\n",
            "Epoch 11: val_accuracy did not improve from 0.85544\n",
            "215/215 [==============================] - 7s 34ms/step - loss: 0.0385 - accuracy: 0.9958 - val_loss: 0.7536 - val_accuracy: 0.8498\n",
            "Epoch 12/20\n",
            "214/215 [============================>.] - ETA: 0s - loss: 0.0358 - accuracy: 0.9969\n",
            "Epoch 12: val_accuracy did not improve from 0.85544\n",
            "215/215 [==============================] - 7s 33ms/step - loss: 0.0359 - accuracy: 0.9969 - val_loss: 0.7684 - val_accuracy: 0.8512\n",
            "Epoch 13/20\n",
            "214/215 [============================>.] - ETA: 0s - loss: 0.0365 - accuracy: 0.9962\n",
            "Epoch 13: val_accuracy did not improve from 0.85544\n",
            "215/215 [==============================] - 7s 34ms/step - loss: 0.0365 - accuracy: 0.9962 - val_loss: 0.7713 - val_accuracy: 0.8428\n",
            "Epoch 14/20\n",
            "215/215 [==============================] - ETA: 0s - loss: 0.0356 - accuracy: 0.9964\n",
            "Epoch 14: val_accuracy improved from 0.85544 to 0.85754, saving model to model_checkpoints_complete\n"
          ]
        },
        {
          "output_type": "stream",
          "name": "stderr",
          "text": [
            "WARNING:absl:Found untraced functions such as _jit_compiled_convolution_op while saving (showing 1 of 1). These functions will not be directly callable after loading.\n"
          ]
        },
        {
          "output_type": "stream",
          "name": "stdout",
          "text": [
            "\b\b\b\b\b\b\b\b\b\b\b\b\b\b\b\b\b\b\b\b\b\b\b\b\b\b\b\b\b\b\b\b\b\b\b\b\b\b\b\b\b\b\b\b\b\b\b\b\b\b\b\b\b\b\b\b\b\b\b\b\b\b\b\b\b\b\b\b\b\b\b\b\b\b\b\b\b\b\b\b\b\b\b\b\r215/215 [==============================] - 8s 39ms/step - loss: 0.0356 - accuracy: 0.9964 - val_loss: 0.7751 - val_accuracy: 0.8575\n",
            "Epoch 15/20\n",
            "215/215 [==============================] - ETA: 0s - loss: 0.0341 - accuracy: 0.9968\n",
            "Epoch 15: val_accuracy improved from 0.85754 to 0.85965, saving model to model_checkpoints_complete\n"
          ]
        },
        {
          "output_type": "stream",
          "name": "stderr",
          "text": [
            "WARNING:absl:Found untraced functions such as _jit_compiled_convolution_op while saving (showing 1 of 1). These functions will not be directly callable after loading.\n"
          ]
        },
        {
          "output_type": "stream",
          "name": "stdout",
          "text": [
            "\b\b\b\b\b\b\b\b\b\b\b\b\b\b\b\b\b\b\b\b\b\b\b\b\b\b\b\b\b\b\b\b\b\b\b\b\b\b\b\b\b\b\b\b\b\b\b\b\b\b\b\b\b\b\b\b\b\b\b\b\b\b\b\b\b\b\b\b\b\b\b\b\b\b\b\b\b\b\b\b\b\b\b\b\r215/215 [==============================] - 9s 41ms/step - loss: 0.0341 - accuracy: 0.9968 - val_loss: 0.8397 - val_accuracy: 0.8596\n",
            "Epoch 16/20\n",
            "214/215 [============================>.] - ETA: 0s - loss: 0.0334 - accuracy: 0.9973\n",
            "Epoch 16: val_accuracy did not improve from 0.85965\n",
            "215/215 [==============================] - 8s 38ms/step - loss: 0.0334 - accuracy: 0.9973 - val_loss: 0.7415 - val_accuracy: 0.8589\n",
            "Epoch 17/20\n",
            "214/215 [============================>.] - ETA: 0s - loss: 0.0333 - accuracy: 0.9976\n",
            "Epoch 17: val_accuracy did not improve from 0.85965\n",
            "215/215 [==============================] - 8s 36ms/step - loss: 0.0333 - accuracy: 0.9976 - val_loss: 0.8783 - val_accuracy: 0.8400\n",
            "Epoch 18/20\n",
            "215/215 [==============================] - ETA: 0s - loss: 0.0334 - accuracy: 0.9970\n",
            "Epoch 18: val_accuracy did not improve from 0.85965\n",
            "215/215 [==============================] - 8s 38ms/step - loss: 0.0334 - accuracy: 0.9970 - val_loss: 0.7848 - val_accuracy: 0.8547\n",
            "Epoch 19/20\n",
            "214/215 [============================>.] - ETA: 0s - loss: 0.0345 - accuracy: 0.9969\n",
            "Epoch 19: val_accuracy improved from 0.85965 to 0.87719, saving model to model_checkpoints_complete\n"
          ]
        },
        {
          "output_type": "stream",
          "name": "stderr",
          "text": [
            "WARNING:absl:Found untraced functions such as _jit_compiled_convolution_op while saving (showing 1 of 1). These functions will not be directly callable after loading.\n"
          ]
        },
        {
          "output_type": "stream",
          "name": "stdout",
          "text": [
            "\b\b\b\b\b\b\b\b\b\b\b\b\b\b\b\b\b\b\b\b\b\b\b\b\b\b\b\b\b\b\b\b\b\b\b\b\b\b\b\b\b\b\b\b\b\b\b\b\b\b\b\b\b\b\b\b\b\b\b\b\b\b\b\b\b\b\b\b\b\b\b\b\b\b\b\b\b\b\b\b\b\b\b\b\r215/215 [==============================] - 9s 44ms/step - loss: 0.0345 - accuracy: 0.9969 - val_loss: 0.7538 - val_accuracy: 0.8772\n",
            "Epoch 20/20\n",
            "214/215 [============================>.] - ETA: 0s - loss: 0.0304 - accuracy: 0.9980\n",
            "Epoch 20: val_accuracy did not improve from 0.87719\n",
            "215/215 [==============================] - 8s 39ms/step - loss: 0.0304 - accuracy: 0.9980 - val_loss: 0.8028 - val_accuracy: 0.8533\n"
          ]
        }
      ]
    },
    {
      "cell_type": "code",
      "source": [
        "#ahora vamos a guardar el modelo de manera normal\n",
        "model_complete.save('save_model_complete/mymodel')"
      ],
      "metadata": {
        "colab": {
          "base_uri": "https://localhost:8080/"
        },
        "id": "hzfTO13A0hns",
        "outputId": "3955483a-4e86-45fe-c4ac-e01065752344"
      },
      "execution_count": null,
      "outputs": [
        {
          "output_type": "stream",
          "name": "stderr",
          "text": [
            "WARNING:absl:Found untraced functions such as _jit_compiled_convolution_op while saving (showing 1 of 1). These functions will not be directly callable after loading.\n"
          ]
        }
      ]
    },
    {
      "cell_type": "code",
      "source": [
        "#ahora vamos a cargar el modelo\n",
        "model_complete3 = tf.keras.models.load_model('save_model_complete/mymodel')"
      ],
      "metadata": {
        "id": "sj01oKZE1EKg"
      },
      "execution_count": null,
      "outputs": []
    },
    {
      "cell_type": "code",
      "source": [
        "#veamos que si es el modelo \n",
        "model_complete3.evaluate(test_generator)"
      ],
      "metadata": {
        "colab": {
          "base_uri": "https://localhost:8080/"
        },
        "id": "StkTf04J1ePE",
        "outputId": "dc4f0cd2-9e71-4554-dc6f-92d07ae7ae5b"
      },
      "execution_count": null,
      "outputs": [
        {
          "output_type": "stream",
          "name": "stdout",
          "text": [
            "57/57 [==============================] - 2s 30ms/step - loss: 0.7526 - accuracy: 0.8575\n"
          ]
        },
        {
          "output_type": "execute_result",
          "data": {
            "text/plain": [
              "[0.7525725364685059, 0.8575013875961304]"
            ]
          },
          "metadata": {},
          "execution_count": 55
        }
      ]
    },
    {
      "cell_type": "code",
      "source": [
        "#ahora ocuparemos otro formato para guardar\n",
        "#el h5\n",
        "!pip install pyyaml h5py"
      ],
      "metadata": {
        "colab": {
          "base_uri": "https://localhost:8080/"
        },
        "id": "iYJhXoCI1vAL",
        "outputId": "d4b470a5-7aab-417c-c84b-2e171f4d2836"
      },
      "execution_count": null,
      "outputs": [
        {
          "output_type": "stream",
          "name": "stdout",
          "text": [
            "Looking in indexes: https://pypi.org/simple, https://us-python.pkg.dev/colab-wheels/public/simple/\n",
            "Requirement already satisfied: pyyaml in /usr/local/lib/python3.8/dist-packages (6.0)\n",
            "Requirement already satisfied: h5py in /usr/local/lib/python3.8/dist-packages (3.1.0)\n",
            "Requirement already satisfied: numpy>=1.17.5 in /usr/local/lib/python3.8/dist-packages (from h5py) (1.21.6)\n"
          ]
        }
      ]
    },
    {
      "cell_type": "code",
      "source": [
        "#despues de haber descargado las librerias ahora guardamos el modelo\n",
        "model_complete3.save('my_model.h5')"
      ],
      "metadata": {
        "id": "5DoAeE3119V4"
      },
      "execution_count": null,
      "outputs": []
    },
    {
      "cell_type": "code",
      "source": [
        "#ahora lo vamos a cargar\n",
        "model_complete3 = tf.keras.models.load_model('my_model.h5')"
      ],
      "metadata": {
        "id": "mRWtV-VN2UIr"
      },
      "execution_count": null,
      "outputs": []
    },
    {
      "cell_type": "code",
      "source": [
        "model_complete3.evaluate(test_generator)"
      ],
      "metadata": {
        "id": "5SsB0wVx3Nhb",
        "outputId": "370212b5-99d2-4532-a2e7-9b3913a39bad",
        "colab": {
          "base_uri": "https://localhost:8080/"
        }
      },
      "execution_count": null,
      "outputs": [
        {
          "output_type": "stream",
          "name": "stdout",
          "text": [
            "57/57 [==============================] - 2s 30ms/step - loss: 0.7526 - accuracy: 0.8575\n"
          ]
        },
        {
          "output_type": "execute_result",
          "data": {
            "text/plain": [
              "[0.7525724768638611, 0.8575013875961304]"
            ]
          },
          "metadata": {},
          "execution_count": 59
        }
      ]
    }
  ]
}