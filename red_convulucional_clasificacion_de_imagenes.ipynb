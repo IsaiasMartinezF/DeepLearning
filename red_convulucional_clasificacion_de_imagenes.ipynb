{
  "nbformat": 4,
  "nbformat_minor": 0,
  "metadata": {
    "colab": {
      "provenance": []
    },
    "kernelspec": {
      "name": "python3",
      "display_name": "Python 3"
    },
    "language_info": {
      "name": "python"
    },
    "accelerator": "GPU",
    "gpuClass": "standard"
  },
  "cells": [
    {
      "cell_type": "code",
      "execution_count": null,
      "metadata": {
        "id": "c0_Q_coHwbRw"
      },
      "outputs": [],
      "source": [
        "import tensorflow as tf\n",
        "from tensorflow.keras.datasets import fashion_mnist\n",
        "from tensorflow.keras.layers import Conv2D, Dropout, MaxPooling2D, Flatten, Dense\n",
        "import numpy as np\n",
        "import matplotlib.pyplot as plt"
      ]
    },
    {
      "cell_type": "code",
      "source": [
        "(train_images, train_labels),(test_images, test_labels)= fashion_mnist.load_data()"
      ],
      "metadata": {
        "id": "a7nry50Owk9_",
        "colab": {
          "base_uri": "https://localhost:8080/"
        },
        "outputId": "2287e990-7f0a-4297-8b95-e07a5847d355"
      },
      "execution_count": null,
      "outputs": [
        {
          "output_type": "stream",
          "name": "stdout",
          "text": [
            "Downloading data from https://storage.googleapis.com/tensorflow/tf-keras-datasets/train-labels-idx1-ubyte.gz\n",
            "29515/29515 [==============================] - 0s 0us/step\n",
            "Downloading data from https://storage.googleapis.com/tensorflow/tf-keras-datasets/train-images-idx3-ubyte.gz\n",
            "26421880/26421880 [==============================] - 0s 0us/step\n",
            "Downloading data from https://storage.googleapis.com/tensorflow/tf-keras-datasets/t10k-labels-idx1-ubyte.gz\n",
            "5148/5148 [==============================] - 0s 0us/step\n",
            "Downloading data from https://storage.googleapis.com/tensorflow/tf-keras-datasets/t10k-images-idx3-ubyte.gz\n",
            "4422102/4422102 [==============================] - 0s 0us/step\n"
          ]
        }
      ]
    },
    {
      "cell_type": "code",
      "source": [
        "#cuantas imagenes tengo y cual es su dimension\n",
        "train_images.shape"
      ],
      "metadata": {
        "colab": {
          "base_uri": "https://localhost:8080/"
        },
        "id": "ImmFdxGNxezb",
        "outputId": "7be3cf8a-7974-46d9-c270-092000c3ae24"
      },
      "execution_count": null,
      "outputs": [
        {
          "output_type": "execute_result",
          "data": {
            "text/plain": [
              "(60000, 28, 28)"
            ]
          },
          "metadata": {},
          "execution_count": 3
        }
      ]
    },
    {
      "cell_type": "code",
      "source": [
        "train_images.shape"
      ],
      "metadata": {
        "colab": {
          "base_uri": "https://localhost:8080/"
        },
        "id": "MW3-xwod69Yb",
        "outputId": "b8323660-103f-476f-a074-605c3f30a79d"
      },
      "execution_count": null,
      "outputs": [
        {
          "output_type": "execute_result",
          "data": {
            "text/plain": [
              "(60000, 28, 28)"
            ]
          },
          "metadata": {},
          "execution_count": 4
        }
      ]
    },
    {
      "cell_type": "code",
      "source": [
        "test_images.shape"
      ],
      "metadata": {
        "colab": {
          "base_uri": "https://localhost:8080/"
        },
        "id": "4C8moR3Y6UTQ",
        "outputId": "ac497159-4f98-4767-81cc-266bcfd4b23f"
      },
      "execution_count": null,
      "outputs": [
        {
          "output_type": "execute_result",
          "data": {
            "text/plain": [
              "(10000, 28, 28)"
            ]
          },
          "metadata": {},
          "execution_count": 5
        }
      ]
    },
    {
      "cell_type": "code",
      "source": [
        "test_labels.shape"
      ],
      "metadata": {
        "colab": {
          "base_uri": "https://localhost:8080/"
        },
        "id": "Is5W7OSI6YuN",
        "outputId": "87712547-7a8d-4442-d3cf-3abe0cc96dfe"
      },
      "execution_count": null,
      "outputs": [
        {
          "output_type": "execute_result",
          "data": {
            "text/plain": [
              "(10000,)"
            ]
          },
          "metadata": {},
          "execution_count": 6
        }
      ]
    },
    {
      "cell_type": "code",
      "source": [
        "#el data set es de ropa\n",
        "plt.imshow(train_images[100])"
      ],
      "metadata": {
        "colab": {
          "base_uri": "https://localhost:8080/",
          "height": 282
        },
        "id": "upDM2J6Nx1Ad",
        "outputId": "f8a7f4a2-875d-4dd9-93d5-b480cdf3293d"
      },
      "execution_count": null,
      "outputs": [
        {
          "output_type": "execute_result",
          "data": {
            "text/plain": [
              "<matplotlib.image.AxesImage at 0x7f8edb12bbb0>"
            ]
          },
          "metadata": {},
          "execution_count": 7
        },
        {
          "output_type": "display_data",
          "data": {
            "text/plain": [
              "<Figure size 432x288 with 1 Axes>"
            ],
            "image/png": "[encoded data removed]"
          },
          "metadata": {
            "needs_background": "light"
          }
        }
      ]
    },
    {
      "cell_type": "code",
      "source": [
        "train_images = train_images.astype('float32') / 255 #el limite de pixeles es 255\n",
        "test_images = test_images.astype('float32') / 255"
      ],
      "metadata": {
        "id": "_1fn_iBRyS7b"
      },
      "execution_count": null,
      "outputs": []
    },
    {
      "cell_type": "code",
      "source": [
        "#se va a hacer un reshape\n",
        "train_images = train_images.reshape(train_images.shape[0],28,28,1)\n",
        "test_images = test_images.reshape(test_images.shape[0],28,28,1)"
      ],
      "metadata": {
        "id": "E51Jl9DvyuSY"
      },
      "execution_count": null,
      "outputs": []
    },
    {
      "cell_type": "code",
      "source": [
        "#esta linea es para estandarizar los datos dadas las dimensiones que se tienen \n",
        "train_labels = tf.keras.utils.to_categorical(train_labels,10)\n",
        "test_labels = tf.keras.utils.to_categorical(test_labels,10)"
      ],
      "metadata": {
        "id": "Ct1YB3IkztZm"
      },
      "execution_count": null,
      "outputs": []
    },
    {
      "cell_type": "code",
      "source": [
        "#vamos a crear nuestro modelo de datos \n",
        "model = tf.keras.Sequential()\n",
        "#agregando capas\n",
        "model.add(Conv2D(filters=64, kernel_size = 2 , padding = 'same', activation='relu', input_shape=(28,28,1)))#capá de comvolucion\n",
        "model.add(MaxPooling2D(pool_size = 2))\n",
        "model.add(Dropout(0.3))\n",
        "model.add(Conv2D(filters=32, kernel_size = 2 , padding = 'same', activation='relu'))#capá de comvolucion\n",
        "model.add(MaxPooling2D(pool_size = 2))\n",
        "model.add(Dropout(0.3))\n",
        "model.add(Flatten())\n",
        "model.add(Dense(256, activation='relu'))\n",
        "model.add(Dropout(0.5))\n",
        "model.add(Dense(10, activation='softmax'))\n",
        "model.summary()"
      ],
      "metadata": {
        "colab": {
          "base_uri": "https://localhost:8080/"
        },
        "id": "t1uv6xGX0Vci",
        "outputId": "a28e433f-bf64-4fd2-ff17-b547f7c4e83e"
      },
      "execution_count": null,
      "outputs": [
        {
          "output_type": "stream",
          "name": "stdout",
          "text": [
            "Model: \"sequential\"\n",
            "_________________________________________________________________\n",
            " Layer (type)                Output Shape              Param #   \n",
            "=================================================================\n",
            " conv2d (Conv2D)             (None, 28, 28, 64)        320       \n",
            "                                                                 \n",
            " max_pooling2d (MaxPooling2D  (None, 14, 14, 64)       0         \n",
            " )                                                               \n",
            "                                                                 \n",
            " dropout (Dropout)           (None, 14, 14, 64)        0         \n",
            "                                                                 \n",
            " conv2d_1 (Conv2D)           (None, 14, 14, 32)        8224      \n",
            "                                                                 \n",
            " max_pooling2d_1 (MaxPooling  (None, 7, 7, 32)         0         \n",
            " 2D)                                                             \n",
            "                                                                 \n",
            " dropout_1 (Dropout)         (None, 7, 7, 32)          0         \n",
            "                                                                 \n",
            " flatten (Flatten)           (None, 1568)              0         \n",
            "                                                                 \n",
            " dense (Dense)               (None, 256)               401664    \n",
            "                                                                 \n",
            " dropout_2 (Dropout)         (None, 256)               0         \n",
            "                                                                 \n",
            " dense_1 (Dense)             (None, 10)                2570      \n",
            "                                                                 \n",
            "=================================================================\n",
            "Total params: 412,778\n",
            "Trainable params: 412,778\n",
            "Non-trainable params: 0\n",
            "_________________________________________________________________\n"
          ]
        }
      ]
    },
    {
      "cell_type": "code",
      "source": [
        "from tensorflow.python import metrics\n",
        "#Compilar y entrenar nuestro modelo\n",
        "model.compile(loss='categorical_crossentropy',\n",
        "              optimizer='rmsprop',\n",
        "              metrics='accuracy')"
      ],
      "metadata": {
        "id": "hmPQKtNy8ag8"
      },
      "execution_count": null,
      "outputs": []
    },
    {
      "cell_type": "code",
      "source": [
        "model.fit(train_images, train_labels, batch_size=64, epochs=10)"
      ],
      "metadata": {
        "colab": {
          "base_uri": "https://localhost:8080/"
        },
        "id": "MSvsKIlR-Rr9",
        "outputId": "08d15383-9228-4871-cbe7-0fbf0377d936"
      },
      "execution_count": null,
      "outputs": [
        {
          "output_type": "stream",
          "name": "stdout",
          "text": [
            "Epoch 1/10\n",
            "938/938 [==============================] - 14s 5ms/step - loss: 0.5703 - accuracy: 0.7916\n",
            "Epoch 2/10\n",
            "938/938 [==============================] - 4s 5ms/step - loss: 0.3991 - accuracy: 0.8571\n",
            "Epoch 3/10\n",
            "938/938 [==============================] - 5s 5ms/step - loss: 0.3588 - accuracy: 0.8722\n",
            "Epoch 4/10\n",
            "938/938 [==============================] - 5s 5ms/step - loss: 0.3416 - accuracy: 0.8774\n",
            "Epoch 5/10\n",
            "938/938 [==============================] - 5s 5ms/step - loss: 0.3290 - accuracy: 0.8840\n",
            "Epoch 6/10\n",
            "938/938 [==============================] - 5s 5ms/step - loss: 0.3249 - accuracy: 0.8846\n",
            "Epoch 7/10\n",
            "938/938 [==============================] - 5s 5ms/step - loss: 0.3213 - accuracy: 0.8863\n",
            "Epoch 8/10\n",
            "938/938 [==============================] - 4s 5ms/step - loss: 0.3205 - accuracy: 0.8882\n",
            "Epoch 9/10\n",
            "938/938 [==============================] - 5s 5ms/step - loss: 0.3189 - accuracy: 0.8870\n",
            "Epoch 10/10\n",
            "938/938 [==============================] - 5s 5ms/step - loss: 0.3201 - accuracy: 0.8886\n"
          ]
        },
        {
          "output_type": "execute_result",
          "data": {
            "text/plain": [
              "<keras.callbacks.History at 0x7f8e765fd7f0>"
            ]
          },
          "metadata": {},
          "execution_count": 13
        }
      ]
    },
    {
      "cell_type": "code",
      "source": [
        "model.evaluate(test_images, test_labels, verbose=0)"
      ],
      "metadata": {
        "colab": {
          "base_uri": "https://localhost:8080/"
        },
        "id": "NQ2zFbMt4fdC",
        "outputId": "5954cea3-a160-478c-b92c-f8d35f893293"
      },
      "execution_count": null,
      "outputs": [
        {
          "output_type": "execute_result",
          "data": {
            "text/plain": [
              "[0.28964468836784363, 0.9016000032424927]"
            ]
          },
          "metadata": {},
          "execution_count": 14
        }
      ]
    },
    {
      "cell_type": "markdown",
      "source": [
        "##Early stopping y Checkpoints"
      ],
      "metadata": {
        "id": "OdbZ62Kky1l3"
      }
    },
    {
      "cell_type": "code",
      "source": [
        "#early stopping: ayuda a detener la red una vez que esta empieza a diverge\n",
        "#la paciencia (patience) pondra el limite si es muy baja o alta afectara en\n",
        "#si se detiene o no en cuanto a las epocas\n",
        "\n",
        "early = tf.keras.callbacks.EarlyStopping(monitor='accuracy', patience=1)\n",
        "model.fit(train_images,\n",
        "          train_labels, \n",
        "          batch_size=64,\n",
        "          callbacks=[early],\n",
        "          epochs=10)"
      ],
      "metadata": {
        "colab": {
          "base_uri": "https://localhost:8080/"
        },
        "id": "bVeJ1P1uyxCg",
        "outputId": "4979a5d2-bbe7-4ec2-e357-42ffe85b7f76"
      },
      "execution_count": null,
      "outputs": [
        {
          "output_type": "stream",
          "name": "stdout",
          "text": [
            "Epoch 1/10\n",
            "938/938 [==============================] - 5s 5ms/step - loss: 0.3225 - accuracy: 0.8893\n",
            "Epoch 2/10\n",
            "938/938 [==============================] - 5s 5ms/step - loss: 0.3241 - accuracy: 0.8870\n"
          ]
        },
        {
          "output_type": "execute_result",
          "data": {
            "text/plain": [
              "<keras.callbacks.History at 0x7f8e762c9340>"
            ]
          },
          "metadata": {},
          "execution_count": 15
        }
      ]
    },
    {
      "cell_type": "code",
      "source": [
        "#Checkpoint\n",
        "checkpoint= tf.keras.callbacks.ModelCheckpoint(filepath='red_convu_uno.hdf5',\n",
        "                                             verbose= 1,\n",
        "                                             monitor= 'accuracy',\n",
        "                                             save_best_only= True)\n",
        "model.fit(train_images,\n",
        "          train_labels, \n",
        "          batch_size=64,\n",
        "          callbacks=[checkpoint],\n",
        "          epochs=10)"
      ],
      "metadata": {
        "colab": {
          "base_uri": "https://localhost:8080/"
        },
        "id": "cdBqNXM72NkR",
        "outputId": "a34c6295-c16d-44dd-d2c8-68aef42f4293"
      },
      "execution_count": null,
      "outputs": [
        {
          "output_type": "stream",
          "name": "stdout",
          "text": [
            "Epoch 1/10\n",
            "933/938 [============================>.] - ETA: 0s - loss: 0.3265 - accuracy: 0.8865\n",
            "Epoch 1: accuracy improved from -inf to 0.88648, saving model to red_convu_uno.hdf5\n",
            "938/938 [==============================] - 5s 5ms/step - loss: 0.3264 - accuracy: 0.8865\n",
            "Epoch 2/10\n",
            "933/938 [============================>.] - ETA: 0s - loss: 0.3286 - accuracy: 0.8878\n",
            "Epoch 2: accuracy improved from 0.88648 to 0.88782, saving model to red_convu_uno.hdf5\n",
            "938/938 [==============================] - 5s 5ms/step - loss: 0.3286 - accuracy: 0.8878\n",
            "Epoch 3/10\n",
            "937/938 [============================>.] - ETA: 0s - loss: 0.3262 - accuracy: 0.8880\n",
            "Epoch 3: accuracy improved from 0.88782 to 0.88802, saving model to red_convu_uno.hdf5\n",
            "938/938 [==============================] - 5s 5ms/step - loss: 0.3263 - accuracy: 0.8880\n",
            "Epoch 4/10\n",
            "927/938 [============================>.] - ETA: 0s - loss: 0.3317 - accuracy: 0.8863\n",
            "Epoch 4: accuracy did not improve from 0.88802\n",
            "938/938 [==============================] - 4s 5ms/step - loss: 0.3316 - accuracy: 0.8864\n",
            "Epoch 5/10\n",
            "932/938 [============================>.] - ETA: 0s - loss: 0.3307 - accuracy: 0.8880\n",
            "Epoch 5: accuracy did not improve from 0.88802\n",
            "938/938 [==============================] - 4s 5ms/step - loss: 0.3310 - accuracy: 0.8880\n",
            "Epoch 6/10\n",
            "931/938 [============================>.] - ETA: 0s - loss: 0.3299 - accuracy: 0.8862\n",
            "Epoch 6: accuracy did not improve from 0.88802\n",
            "938/938 [==============================] - 4s 5ms/step - loss: 0.3300 - accuracy: 0.8862\n",
            "Epoch 7/10\n",
            "938/938 [==============================] - ETA: 0s - loss: 0.3320 - accuracy: 0.8860\n",
            "Epoch 7: accuracy did not improve from 0.88802\n",
            "938/938 [==============================] - 5s 5ms/step - loss: 0.3320 - accuracy: 0.8860\n",
            "Epoch 8/10\n",
            "935/938 [============================>.] - ETA: 0s - loss: 0.3326 - accuracy: 0.8858\n",
            "Epoch 8: accuracy did not improve from 0.88802\n",
            "938/938 [==============================] - 5s 5ms/step - loss: 0.3327 - accuracy: 0.8858\n",
            "Epoch 9/10\n",
            "934/938 [============================>.] - ETA: 0s - loss: 0.3367 - accuracy: 0.8862\n",
            "Epoch 9: accuracy did not improve from 0.88802\n",
            "938/938 [==============================] - 5s 5ms/step - loss: 0.3369 - accuracy: 0.8861\n",
            "Epoch 10/10\n",
            "938/938 [==============================] - ETA: 0s - loss: 0.3360 - accuracy: 0.8839\n",
            "Epoch 10: accuracy did not improve from 0.88802\n",
            "938/938 [==============================] - 5s 5ms/step - loss: 0.3360 - accuracy: 0.8839\n"
          ]
        },
        {
          "output_type": "execute_result",
          "data": {
            "text/plain": [
              "<keras.callbacks.History at 0x7f8e76278640>"
            ]
          },
          "metadata": {},
          "execution_count": 16
        }
      ]
    },
    {
      "cell_type": "code",
      "source": [
        "#es importante notar que este check point deja un archivo con los mejores pesos\n",
        "model2 = model\n",
        "model2.load_weights('/content/red_convu_uno.hdf5')\n",
        "#esta linea es la que tiene el archivo con los pesos\n"
      ],
      "metadata": {
        "id": "eFIRf-eY4J6c"
      },
      "execution_count": null,
      "outputs": []
    },
    {
      "cell_type": "code",
      "source": [
        "model.evaluate(test_images, test_labels)"
      ],
      "metadata": {
        "colab": {
          "base_uri": "https://localhost:8080/"
        },
        "id": "I1NoP37U4lzq",
        "outputId": "8a74eb93-caa2-4bae-e724-65ae2d6b5c28"
      },
      "execution_count": null,
      "outputs": [
        {
          "output_type": "stream",
          "name": "stdout",
          "text": [
            "313/313 [==============================] - 1s 3ms/step - loss: 0.3758 - accuracy: 0.9004\n"
          ]
        },
        {
          "output_type": "execute_result",
          "data": {
            "text/plain": [
              "[0.375802218914032, 0.9003999829292297]"
            ]
          },
          "metadata": {},
          "execution_count": 18
        }
      ]
    },
    {
      "cell_type": "markdown",
      "source": [
        "##Erly stoping & checkpoints"
      ],
      "metadata": {
        "id": "HbWMhUf-MMhA"
      }
    },
    {
      "cell_type": "code",
      "source": [
        "#nos ayuda a checar si una metrica no esta mejorando y si no lo hace detiene el entrenamiento segun nuestros parametros\n",
        "early = tf.keras.callbacks.EarlyStopping(monitor = 'accuracy', patience=1 )\n",
        "model.fit(train_images, train_labels, batch_size=64, callbacks=[early],epochs = 10 )"
      ],
      "metadata": {
        "colab": {
          "base_uri": "https://localhost:8080/"
        },
        "id": "yJhBj4ptMK5e",
        "outputId": "de3b9ce9-70f9-4c53-94fd-b2ebe0c9c4d8"
      },
      "execution_count": null,
      "outputs": [
        {
          "output_type": "stream",
          "name": "stdout",
          "text": [
            "Epoch 1/10\n",
            "938/938 [==============================] - 5s 5ms/step - loss: 0.3287 - accuracy: 0.8872\n",
            "Epoch 2/10\n",
            "938/938 [==============================] - 5s 5ms/step - loss: 0.3282 - accuracy: 0.8873\n",
            "Epoch 3/10\n",
            "938/938 [==============================] - 4s 5ms/step - loss: 0.3339 - accuracy: 0.8856\n"
          ]
        },
        {
          "output_type": "execute_result",
          "data": {
            "text/plain": [
              "<keras.callbacks.History at 0x7f8df42f02e0>"
            ]
          },
          "metadata": {},
          "execution_count": 21
        }
      ]
    },
    {
      "cell_type": "code",
      "source": [
        "#ahora ocupemos otro callback\n",
        "#'hdf5' es la extencion para los pesos del modelo \n",
        "#'save_best_only' es para solo se guarde los pesos del mejor modelo\n",
        "tf.keras.callbacks.ModelCheckpoint(filepath='red_convu_uno.hdf5',\n",
        "                                   verbose = 1,\n",
        "                                   monitor = 'accuracy',\n",
        "                                   save_best_only = True)"
      ],
      "metadata": {
        "colab": {
          "base_uri": "https://localhost:8080/"
        },
        "id": "Yt7JQ_CyOCPm",
        "outputId": "5cf25641-67c6-4f72-daff-c4e50b1a8adf"
      },
      "execution_count": null,
      "outputs": [
        {
          "output_type": "execute_result",
          "data": {
            "text/plain": [
              "<keras.callbacks.ModelCheckpoint at 0x7f8df4301b80>"
            ]
          },
          "metadata": {},
          "execution_count": 22
        }
      ]
    }
  ]
}